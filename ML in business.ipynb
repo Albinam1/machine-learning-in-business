{
 "cells": [
  {
   "cell_type": "markdown",
   "metadata": {},
   "source": [
    "Очень рекомендую посмотреть видео от Глеба Михайлова!)<br>\n",
    "**[Линейная Регрессия для Дата Саентиста](https://www.youtube.com/watch?v=QZJ94igWVxQ&t=19s)**     <br> \n",
    "    \n",
    "**Вот здесь есть отличное объяснение с примером по [мультиколлинеарности](https://habr.com/ru/company/akbarsdigital/blog/592493/)** <br>\n",
    "    \n",
    "**И здесь интересная статься - [коротко о мультиколлинеарности и что с этим делать](https://medium.com/analytics-vidhya/removing-multi-collinearity-for-linear-and-logistic-regression-f1fa744f3666)** <br>   \n",
    "   \n",
    "**Если интересна статистика, можно посмотреть [короткие видео-лекции Карпова на степике](https://stepik.org/lesson/8095/step/1?unit=1371)**    <br>\n",
    "\n",
    "**Вот здесь, как мне кажется, есть неплохая статья про [смысл техники bootstrap](https://habr.com/ru/company/X5Tech/blog/679842/)**<br>\n",
    "\n",
    "**Видео-лекция на степике -  [3 раздел - Введение в bootstrap](https://stepik.org/course/2152/syllabus)** <br> "
   ]
  },
  {
   "cell_type": "markdown",
   "metadata": {},
   "source": [
    "# Выбор локации для скважины"
   ]
  },
  {
   "cell_type": "markdown",
   "metadata": {},
   "source": [
    "Допустим, вы работаете в добывающей компании «ГлавРосГосНефть». Нужно решить, где бурить новую скважину.\n",
    "\n",
    "Вам предоставлены пробы нефти в трёх регионах: в каждом 10 000 месторождений, где измерили качество нефти и объём её запасов. Постройте модель машинного обучения, которая поможет определить регион, где добыча принесёт наибольшую прибыль. Проанализируйте возможную прибыль и риски техникой *Bootstrap.*\n",
    "\n",
    "Шаги для выбора локации:\n",
    "\n",
    "- В избранном регионе ищут месторождения, для каждого определяют значения признаков;\n",
    "- Строят модель и оценивают объём запасов;\n",
    "- Выбирают месторождения с самым высокими оценками значений. Количество месторождений зависит от бюджета компании и стоимости разработки одной скважины;\n",
    "- Прибыль равна суммарной прибыли отобранных месторождений."
   ]
  },
  {
   "cell_type": "markdown",
   "metadata": {},
   "source": [
    "## Описание данных\n",
    "Данные геологоразведки трёх регионов находятся в файлах: <br>\n",
    "/datasets/geo_data_0.csv <br>\n",
    "/datasets/geo_data_1.csv <br>\n",
    "/datasets/geo_data_2.csv <br>\n",
    "id — уникальный идентификатор скважины; <br>\n",
    "f0, f1, f2 — три признака точек (неважно, что они означают, но сами признаки значимы); <br>\n",
    "product — объём запасов в скважине (тыс. баррелей). <br>\n",
    "\n",
    "### Условия задачи:\n",
    "Для обучения модели подходит только линейная регрессия (остальные — недостаточно предсказуемые). <br>\n",
    "При разведке региона исследуют 500 точек, из которых с помощью машинного обучения выбирают 200 лучших для разработки. <br>\n",
    "Бюджет на разработку скважин в регионе — 10 млрд рублей. <br>\n",
    "При нынешних ценах один баррель сырья приносит 450 рублей дохода. Доход с каждой единицы продукта составляет 450 тыс. рублей, поскольку объём указан в тысячах баррелей. <br>\n",
    "После оценки рисков нужно оставить лишь те регионы, в которых вероятность убытков меньше 2.5%. Среди них выбирают регион с наибольшей средней прибылью. <br>\n",
    "Данные синтетические: детали контрактов и характеристики месторождений не разглашаются. <br>"
   ]
  },
  {
   "cell_type": "markdown",
   "metadata": {},
   "source": [
    "## Загрузка и подготовка данных"
   ]
  },
  {
   "cell_type": "code",
   "execution_count": 1,
   "metadata": {},
   "outputs": [],
   "source": [
    "#загрузим библиотеки \n",
    "import pandas as pd\n",
    "from sklearn.model_selection import train_test_split\n",
    "from sklearn.linear_model import LinearRegression\n",
    "from sklearn.preprocessing import StandardScaler\n",
    "from sklearn.metrics import accuracy_score\n",
    "from scipy import stats as st\n",
    "import numpy as np\n",
    "from sklearn.metrics import mean_squared_error, r2_score\n",
    "from tqdm.notebook import tqdm\n",
    "import matplotlib.pyplot as plt\n",
    "import seaborn as sns\n",
    "from sklearn.utils import shuffle\n",
    "from sklearn.preprocessing import OrdinalEncoder "
   ]
  },
  {
   "cell_type": "code",
   "execution_count": 2,
   "metadata": {},
   "outputs": [],
   "source": [
    "#Загрузим данные \n",
    "data_0 = pd.read_csv('/datasets/geo_data_0.csv')\n",
    "data_1 = pd.read_csv('/datasets/geo_data_1.csv')\n",
    "data_2 = pd.read_csv('/datasets/geo_data_2.csv')"
   ]
  },
  {
   "cell_type": "code",
   "execution_count": 3,
   "metadata": {},
   "outputs": [
    {
     "name": "stdout",
     "output_type": "stream",
     "text": [
      "<class 'pandas.core.frame.DataFrame'>\n",
      "RangeIndex: 100000 entries, 0 to 99999\n",
      "Data columns (total 5 columns):\n",
      " #   Column   Non-Null Count   Dtype  \n",
      "---  ------   --------------   -----  \n",
      " 0   id       100000 non-null  object \n",
      " 1   f0       100000 non-null  float64\n",
      " 2   f1       100000 non-null  float64\n",
      " 3   f2       100000 non-null  float64\n",
      " 4   product  100000 non-null  float64\n",
      "dtypes: float64(4), object(1)\n",
      "memory usage: 3.8+ MB\n"
     ]
    }
   ],
   "source": [
    "#Проведем предобраблтку данных \n",
    "data_0.info()"
   ]
  },
  {
   "cell_type": "code",
   "execution_count": 4,
   "metadata": {},
   "outputs": [
    {
     "data": {
      "text/html": [
       "<div>\n",
       "<style scoped>\n",
       "    .dataframe tbody tr th:only-of-type {\n",
       "        vertical-align: middle;\n",
       "    }\n",
       "\n",
       "    .dataframe tbody tr th {\n",
       "        vertical-align: top;\n",
       "    }\n",
       "\n",
       "    .dataframe thead th {\n",
       "        text-align: right;\n",
       "    }\n",
       "</style>\n",
       "<table border=\"1\" class=\"dataframe\">\n",
       "  <thead>\n",
       "    <tr style=\"text-align: right;\">\n",
       "      <th></th>\n",
       "      <th>f0</th>\n",
       "      <th>f1</th>\n",
       "      <th>f2</th>\n",
       "      <th>product</th>\n",
       "    </tr>\n",
       "  </thead>\n",
       "  <tbody>\n",
       "    <tr>\n",
       "      <th>count</th>\n",
       "      <td>100000.000000</td>\n",
       "      <td>100000.000000</td>\n",
       "      <td>100000.000000</td>\n",
       "      <td>100000.000000</td>\n",
       "    </tr>\n",
       "    <tr>\n",
       "      <th>mean</th>\n",
       "      <td>0.500419</td>\n",
       "      <td>0.250143</td>\n",
       "      <td>2.502647</td>\n",
       "      <td>92.500000</td>\n",
       "    </tr>\n",
       "    <tr>\n",
       "      <th>std</th>\n",
       "      <td>0.871832</td>\n",
       "      <td>0.504433</td>\n",
       "      <td>3.248248</td>\n",
       "      <td>44.288691</td>\n",
       "    </tr>\n",
       "    <tr>\n",
       "      <th>min</th>\n",
       "      <td>-1.408605</td>\n",
       "      <td>-0.848218</td>\n",
       "      <td>-12.088328</td>\n",
       "      <td>0.000000</td>\n",
       "    </tr>\n",
       "    <tr>\n",
       "      <th>25%</th>\n",
       "      <td>-0.072580</td>\n",
       "      <td>-0.200881</td>\n",
       "      <td>0.287748</td>\n",
       "      <td>56.497507</td>\n",
       "    </tr>\n",
       "    <tr>\n",
       "      <th>50%</th>\n",
       "      <td>0.502360</td>\n",
       "      <td>0.250252</td>\n",
       "      <td>2.515969</td>\n",
       "      <td>91.849972</td>\n",
       "    </tr>\n",
       "    <tr>\n",
       "      <th>75%</th>\n",
       "      <td>1.073581</td>\n",
       "      <td>0.700646</td>\n",
       "      <td>4.715088</td>\n",
       "      <td>128.564089</td>\n",
       "    </tr>\n",
       "    <tr>\n",
       "      <th>max</th>\n",
       "      <td>2.362331</td>\n",
       "      <td>1.343769</td>\n",
       "      <td>16.003790</td>\n",
       "      <td>185.364347</td>\n",
       "    </tr>\n",
       "  </tbody>\n",
       "</table>\n",
       "</div>"
      ],
      "text/plain": [
       "                  f0             f1             f2        product\n",
       "count  100000.000000  100000.000000  100000.000000  100000.000000\n",
       "mean        0.500419       0.250143       2.502647      92.500000\n",
       "std         0.871832       0.504433       3.248248      44.288691\n",
       "min        -1.408605      -0.848218     -12.088328       0.000000\n",
       "25%        -0.072580      -0.200881       0.287748      56.497507\n",
       "50%         0.502360       0.250252       2.515969      91.849972\n",
       "75%         1.073581       0.700646       4.715088     128.564089\n",
       "max         2.362331       1.343769      16.003790     185.364347"
      ]
     },
     "execution_count": 4,
     "metadata": {},
     "output_type": "execute_result"
    }
   ],
   "source": [
    "data_0.describe()"
   ]
  },
  {
   "cell_type": "code",
   "execution_count": 5,
   "metadata": {},
   "outputs": [
    {
     "data": {
      "text/html": [
       "<div>\n",
       "<style scoped>\n",
       "    .dataframe tbody tr th:only-of-type {\n",
       "        vertical-align: middle;\n",
       "    }\n",
       "\n",
       "    .dataframe tbody tr th {\n",
       "        vertical-align: top;\n",
       "    }\n",
       "\n",
       "    .dataframe thead th {\n",
       "        text-align: right;\n",
       "    }\n",
       "</style>\n",
       "<table border=\"1\" class=\"dataframe\">\n",
       "  <thead>\n",
       "    <tr style=\"text-align: right;\">\n",
       "      <th></th>\n",
       "      <th>id</th>\n",
       "      <th>f0</th>\n",
       "      <th>f1</th>\n",
       "      <th>f2</th>\n",
       "      <th>product</th>\n",
       "    </tr>\n",
       "  </thead>\n",
       "  <tbody>\n",
       "    <tr>\n",
       "      <th>0</th>\n",
       "      <td>txEyH</td>\n",
       "      <td>0.705745</td>\n",
       "      <td>-0.497823</td>\n",
       "      <td>1.221170</td>\n",
       "      <td>105.280062</td>\n",
       "    </tr>\n",
       "    <tr>\n",
       "      <th>1</th>\n",
       "      <td>2acmU</td>\n",
       "      <td>1.334711</td>\n",
       "      <td>-0.340164</td>\n",
       "      <td>4.365080</td>\n",
       "      <td>73.037750</td>\n",
       "    </tr>\n",
       "    <tr>\n",
       "      <th>2</th>\n",
       "      <td>409Wp</td>\n",
       "      <td>1.022732</td>\n",
       "      <td>0.151990</td>\n",
       "      <td>1.419926</td>\n",
       "      <td>85.265647</td>\n",
       "    </tr>\n",
       "    <tr>\n",
       "      <th>3</th>\n",
       "      <td>iJLyR</td>\n",
       "      <td>-0.032172</td>\n",
       "      <td>0.139033</td>\n",
       "      <td>2.978566</td>\n",
       "      <td>168.620776</td>\n",
       "    </tr>\n",
       "    <tr>\n",
       "      <th>4</th>\n",
       "      <td>Xdl7t</td>\n",
       "      <td>1.988431</td>\n",
       "      <td>0.155413</td>\n",
       "      <td>4.751769</td>\n",
       "      <td>154.036647</td>\n",
       "    </tr>\n",
       "  </tbody>\n",
       "</table>\n",
       "</div>"
      ],
      "text/plain": [
       "      id        f0        f1        f2     product\n",
       "0  txEyH  0.705745 -0.497823  1.221170  105.280062\n",
       "1  2acmU  1.334711 -0.340164  4.365080   73.037750\n",
       "2  409Wp  1.022732  0.151990  1.419926   85.265647\n",
       "3  iJLyR -0.032172  0.139033  2.978566  168.620776\n",
       "4  Xdl7t  1.988431  0.155413  4.751769  154.036647"
      ]
     },
     "execution_count": 5,
     "metadata": {},
     "output_type": "execute_result"
    }
   ],
   "source": [
    "data_0.head()"
   ]
  },
  {
   "cell_type": "code",
   "execution_count": 6,
   "metadata": {},
   "outputs": [
    {
     "data": {
      "text/plain": [
       "0"
      ]
     },
     "execution_count": 6,
     "metadata": {},
     "output_type": "execute_result"
    }
   ],
   "source": [
    "data_0.duplicated().sum()"
   ]
  },
  {
   "cell_type": "code",
   "execution_count": 7,
   "metadata": {},
   "outputs": [
    {
     "data": {
      "image/png": "[encoded data removed]",
      "text/plain": [
       "<Figure size 1080x1440 with 4 Axes>"
      ]
     },
     "metadata": {
      "needs_background": "light"
     },
     "output_type": "display_data"
    }
   ],
   "source": [
    "data_0.hist(figsize = (15,20));"
   ]
  },
  {
   "cell_type": "code",
   "execution_count": 8,
   "metadata": {},
   "outputs": [
    {
     "data": {
      "text/plain": [
       "<AxesSubplot:>"
      ]
     },
     "execution_count": 8,
     "metadata": {},
     "output_type": "execute_result"
    },
    {
     "data": {
      "image/png": "[encoded data removed]",
      "text/plain": [
       "<Figure size 432x288 with 2 Axes>"
      ]
     },
     "metadata": {
      "needs_background": "light"
     },
     "output_type": "display_data"
    }
   ],
   "source": [
    "#heatmap для первого датасета\n",
    "sns.heatmap(data_0.corr())"
   ]
  },
  {
   "cell_type": "code",
   "execution_count": 9,
   "metadata": {},
   "outputs": [
    {
     "data": {
      "text/plain": [
       "10"
      ]
     },
     "execution_count": 9,
     "metadata": {},
     "output_type": "execute_result"
    }
   ],
   "source": [
    "data_0[\"id\"].duplicated().sum()"
   ]
  },
  {
   "cell_type": "code",
   "execution_count": 10,
   "metadata": {},
   "outputs": [
    {
     "name": "stdout",
     "output_type": "stream",
     "text": [
      "<class 'pandas.core.frame.DataFrame'>\n",
      "RangeIndex: 100000 entries, 0 to 99999\n",
      "Data columns (total 5 columns):\n",
      " #   Column   Non-Null Count   Dtype  \n",
      "---  ------   --------------   -----  \n",
      " 0   id       100000 non-null  object \n",
      " 1   f0       100000 non-null  float64\n",
      " 2   f1       100000 non-null  float64\n",
      " 3   f2       100000 non-null  float64\n",
      " 4   product  100000 non-null  float64\n",
      "dtypes: float64(4), object(1)\n",
      "memory usage: 3.8+ MB\n"
     ]
    }
   ],
   "source": [
    "data_1.info()"
   ]
  },
  {
   "cell_type": "code",
   "execution_count": 11,
   "metadata": {},
   "outputs": [
    {
     "data": {
      "text/html": [
       "<div>\n",
       "<style scoped>\n",
       "    .dataframe tbody tr th:only-of-type {\n",
       "        vertical-align: middle;\n",
       "    }\n",
       "\n",
       "    .dataframe tbody tr th {\n",
       "        vertical-align: top;\n",
       "    }\n",
       "\n",
       "    .dataframe thead th {\n",
       "        text-align: right;\n",
       "    }\n",
       "</style>\n",
       "<table border=\"1\" class=\"dataframe\">\n",
       "  <thead>\n",
       "    <tr style=\"text-align: right;\">\n",
       "      <th></th>\n",
       "      <th>f0</th>\n",
       "      <th>f1</th>\n",
       "      <th>f2</th>\n",
       "      <th>product</th>\n",
       "    </tr>\n",
       "  </thead>\n",
       "  <tbody>\n",
       "    <tr>\n",
       "      <th>count</th>\n",
       "      <td>100000.000000</td>\n",
       "      <td>100000.000000</td>\n",
       "      <td>100000.000000</td>\n",
       "      <td>100000.000000</td>\n",
       "    </tr>\n",
       "    <tr>\n",
       "      <th>mean</th>\n",
       "      <td>1.141296</td>\n",
       "      <td>-4.796579</td>\n",
       "      <td>2.494541</td>\n",
       "      <td>68.825000</td>\n",
       "    </tr>\n",
       "    <tr>\n",
       "      <th>std</th>\n",
       "      <td>8.965932</td>\n",
       "      <td>5.119872</td>\n",
       "      <td>1.703572</td>\n",
       "      <td>45.944423</td>\n",
       "    </tr>\n",
       "    <tr>\n",
       "      <th>min</th>\n",
       "      <td>-31.609576</td>\n",
       "      <td>-26.358598</td>\n",
       "      <td>-0.018144</td>\n",
       "      <td>0.000000</td>\n",
       "    </tr>\n",
       "    <tr>\n",
       "      <th>25%</th>\n",
       "      <td>-6.298551</td>\n",
       "      <td>-8.267985</td>\n",
       "      <td>1.000021</td>\n",
       "      <td>26.953261</td>\n",
       "    </tr>\n",
       "    <tr>\n",
       "      <th>50%</th>\n",
       "      <td>1.153055</td>\n",
       "      <td>-4.813172</td>\n",
       "      <td>2.011479</td>\n",
       "      <td>57.085625</td>\n",
       "    </tr>\n",
       "    <tr>\n",
       "      <th>75%</th>\n",
       "      <td>8.621015</td>\n",
       "      <td>-1.332816</td>\n",
       "      <td>3.999904</td>\n",
       "      <td>107.813044</td>\n",
       "    </tr>\n",
       "    <tr>\n",
       "      <th>max</th>\n",
       "      <td>29.421755</td>\n",
       "      <td>18.734063</td>\n",
       "      <td>5.019721</td>\n",
       "      <td>137.945408</td>\n",
       "    </tr>\n",
       "  </tbody>\n",
       "</table>\n",
       "</div>"
      ],
      "text/plain": [
       "                  f0             f1             f2        product\n",
       "count  100000.000000  100000.000000  100000.000000  100000.000000\n",
       "mean        1.141296      -4.796579       2.494541      68.825000\n",
       "std         8.965932       5.119872       1.703572      45.944423\n",
       "min       -31.609576     -26.358598      -0.018144       0.000000\n",
       "25%        -6.298551      -8.267985       1.000021      26.953261\n",
       "50%         1.153055      -4.813172       2.011479      57.085625\n",
       "75%         8.621015      -1.332816       3.999904     107.813044\n",
       "max        29.421755      18.734063       5.019721     137.945408"
      ]
     },
     "execution_count": 11,
     "metadata": {},
     "output_type": "execute_result"
    }
   ],
   "source": [
    "data_1.describe()"
   ]
  },
  {
   "cell_type": "code",
   "execution_count": 12,
   "metadata": {},
   "outputs": [
    {
     "data": {
      "text/html": [
       "<div>\n",
       "<style scoped>\n",
       "    .dataframe tbody tr th:only-of-type {\n",
       "        vertical-align: middle;\n",
       "    }\n",
       "\n",
       "    .dataframe tbody tr th {\n",
       "        vertical-align: top;\n",
       "    }\n",
       "\n",
       "    .dataframe thead th {\n",
       "        text-align: right;\n",
       "    }\n",
       "</style>\n",
       "<table border=\"1\" class=\"dataframe\">\n",
       "  <thead>\n",
       "    <tr style=\"text-align: right;\">\n",
       "      <th></th>\n",
       "      <th>id</th>\n",
       "      <th>f0</th>\n",
       "      <th>f1</th>\n",
       "      <th>f2</th>\n",
       "      <th>product</th>\n",
       "    </tr>\n",
       "  </thead>\n",
       "  <tbody>\n",
       "    <tr>\n",
       "      <th>0</th>\n",
       "      <td>kBEdx</td>\n",
       "      <td>-15.001348</td>\n",
       "      <td>-8.276000</td>\n",
       "      <td>-0.005876</td>\n",
       "      <td>3.179103</td>\n",
       "    </tr>\n",
       "    <tr>\n",
       "      <th>1</th>\n",
       "      <td>62mP7</td>\n",
       "      <td>14.272088</td>\n",
       "      <td>-3.475083</td>\n",
       "      <td>0.999183</td>\n",
       "      <td>26.953261</td>\n",
       "    </tr>\n",
       "    <tr>\n",
       "      <th>2</th>\n",
       "      <td>vyE1P</td>\n",
       "      <td>6.263187</td>\n",
       "      <td>-5.948386</td>\n",
       "      <td>5.001160</td>\n",
       "      <td>134.766305</td>\n",
       "    </tr>\n",
       "    <tr>\n",
       "      <th>3</th>\n",
       "      <td>KcrkZ</td>\n",
       "      <td>-13.081196</td>\n",
       "      <td>-11.506057</td>\n",
       "      <td>4.999415</td>\n",
       "      <td>137.945408</td>\n",
       "    </tr>\n",
       "    <tr>\n",
       "      <th>4</th>\n",
       "      <td>AHL4O</td>\n",
       "      <td>12.702195</td>\n",
       "      <td>-8.147433</td>\n",
       "      <td>5.004363</td>\n",
       "      <td>134.766305</td>\n",
       "    </tr>\n",
       "  </tbody>\n",
       "</table>\n",
       "</div>"
      ],
      "text/plain": [
       "      id         f0         f1        f2     product\n",
       "0  kBEdx -15.001348  -8.276000 -0.005876    3.179103\n",
       "1  62mP7  14.272088  -3.475083  0.999183   26.953261\n",
       "2  vyE1P   6.263187  -5.948386  5.001160  134.766305\n",
       "3  KcrkZ -13.081196 -11.506057  4.999415  137.945408\n",
       "4  AHL4O  12.702195  -8.147433  5.004363  134.766305"
      ]
     },
     "execution_count": 12,
     "metadata": {},
     "output_type": "execute_result"
    }
   ],
   "source": [
    "data_1.head()"
   ]
  },
  {
   "cell_type": "code",
   "execution_count": 13,
   "metadata": {},
   "outputs": [
    {
     "data": {
      "text/plain": [
       "0"
      ]
     },
     "execution_count": 13,
     "metadata": {},
     "output_type": "execute_result"
    }
   ],
   "source": [
    "data_1.duplicated().sum()"
   ]
  },
  {
   "cell_type": "code",
   "execution_count": 14,
   "metadata": {},
   "outputs": [
    {
     "data": {
      "image/png": "[encoded data removed]",
      "text/plain": [
       "<Figure size 1080x1440 with 4 Axes>"
      ]
     },
     "metadata": {
      "needs_background": "light"
     },
     "output_type": "display_data"
    }
   ],
   "source": [
    "data_1.hist(figsize = (15,20));"
   ]
  },
  {
   "cell_type": "code",
   "execution_count": 15,
   "metadata": {},
   "outputs": [
    {
     "data": {
      "text/plain": [
       "<AxesSubplot:>"
      ]
     },
     "execution_count": 15,
     "metadata": {},
     "output_type": "execute_result"
    },
    {
     "data": {
      "image/png": "[encoded data removed]",
      "text/plain": [
       "<Figure size 432x288 with 2 Axes>"
      ]
     },
     "metadata": {
      "needs_background": "light"
     },
     "output_type": "display_data"
    }
   ],
   "source": [
    "#heatmap для второго датасета\n",
    "sns.heatmap(data_1.corr())"
   ]
  },
  {
   "cell_type": "code",
   "execution_count": 16,
   "metadata": {},
   "outputs": [
    {
     "data": {
      "text/plain": [
       "4"
      ]
     },
     "execution_count": 16,
     "metadata": {},
     "output_type": "execute_result"
    }
   ],
   "source": [
    "data_1[\"id\"].duplicated().sum()"
   ]
  },
  {
   "cell_type": "code",
   "execution_count": 17,
   "metadata": {},
   "outputs": [
    {
     "name": "stdout",
     "output_type": "stream",
     "text": [
      "<class 'pandas.core.frame.DataFrame'>\n",
      "RangeIndex: 100000 entries, 0 to 99999\n",
      "Data columns (total 5 columns):\n",
      " #   Column   Non-Null Count   Dtype  \n",
      "---  ------   --------------   -----  \n",
      " 0   id       100000 non-null  object \n",
      " 1   f0       100000 non-null  float64\n",
      " 2   f1       100000 non-null  float64\n",
      " 3   f2       100000 non-null  float64\n",
      " 4   product  100000 non-null  float64\n",
      "dtypes: float64(4), object(1)\n",
      "memory usage: 3.8+ MB\n"
     ]
    }
   ],
   "source": [
    "data_2.info()"
   ]
  },
  {
   "cell_type": "code",
   "execution_count": 18,
   "metadata": {},
   "outputs": [
    {
     "data": {
      "text/html": [
       "<div>\n",
       "<style scoped>\n",
       "    .dataframe tbody tr th:only-of-type {\n",
       "        vertical-align: middle;\n",
       "    }\n",
       "\n",
       "    .dataframe tbody tr th {\n",
       "        vertical-align: top;\n",
       "    }\n",
       "\n",
       "    .dataframe thead th {\n",
       "        text-align: right;\n",
       "    }\n",
       "</style>\n",
       "<table border=\"1\" class=\"dataframe\">\n",
       "  <thead>\n",
       "    <tr style=\"text-align: right;\">\n",
       "      <th></th>\n",
       "      <th>f0</th>\n",
       "      <th>f1</th>\n",
       "      <th>f2</th>\n",
       "      <th>product</th>\n",
       "    </tr>\n",
       "  </thead>\n",
       "  <tbody>\n",
       "    <tr>\n",
       "      <th>count</th>\n",
       "      <td>100000.000000</td>\n",
       "      <td>100000.000000</td>\n",
       "      <td>100000.000000</td>\n",
       "      <td>100000.000000</td>\n",
       "    </tr>\n",
       "    <tr>\n",
       "      <th>mean</th>\n",
       "      <td>0.002023</td>\n",
       "      <td>-0.002081</td>\n",
       "      <td>2.495128</td>\n",
       "      <td>95.000000</td>\n",
       "    </tr>\n",
       "    <tr>\n",
       "      <th>std</th>\n",
       "      <td>1.732045</td>\n",
       "      <td>1.730417</td>\n",
       "      <td>3.473445</td>\n",
       "      <td>44.749921</td>\n",
       "    </tr>\n",
       "    <tr>\n",
       "      <th>min</th>\n",
       "      <td>-8.760004</td>\n",
       "      <td>-7.084020</td>\n",
       "      <td>-11.970335</td>\n",
       "      <td>0.000000</td>\n",
       "    </tr>\n",
       "    <tr>\n",
       "      <th>25%</th>\n",
       "      <td>-1.162288</td>\n",
       "      <td>-1.174820</td>\n",
       "      <td>0.130359</td>\n",
       "      <td>59.450441</td>\n",
       "    </tr>\n",
       "    <tr>\n",
       "      <th>50%</th>\n",
       "      <td>0.009424</td>\n",
       "      <td>-0.009482</td>\n",
       "      <td>2.484236</td>\n",
       "      <td>94.925613</td>\n",
       "    </tr>\n",
       "    <tr>\n",
       "      <th>75%</th>\n",
       "      <td>1.158535</td>\n",
       "      <td>1.163678</td>\n",
       "      <td>4.858794</td>\n",
       "      <td>130.595027</td>\n",
       "    </tr>\n",
       "    <tr>\n",
       "      <th>max</th>\n",
       "      <td>7.238262</td>\n",
       "      <td>7.844801</td>\n",
       "      <td>16.739402</td>\n",
       "      <td>190.029838</td>\n",
       "    </tr>\n",
       "  </tbody>\n",
       "</table>\n",
       "</div>"
      ],
      "text/plain": [
       "                  f0             f1             f2        product\n",
       "count  100000.000000  100000.000000  100000.000000  100000.000000\n",
       "mean        0.002023      -0.002081       2.495128      95.000000\n",
       "std         1.732045       1.730417       3.473445      44.749921\n",
       "min        -8.760004      -7.084020     -11.970335       0.000000\n",
       "25%        -1.162288      -1.174820       0.130359      59.450441\n",
       "50%         0.009424      -0.009482       2.484236      94.925613\n",
       "75%         1.158535       1.163678       4.858794     130.595027\n",
       "max         7.238262       7.844801      16.739402     190.029838"
      ]
     },
     "execution_count": 18,
     "metadata": {},
     "output_type": "execute_result"
    }
   ],
   "source": [
    "data_2.describe()"
   ]
  },
  {
   "cell_type": "code",
   "execution_count": 19,
   "metadata": {},
   "outputs": [
    {
     "data": {
      "text/html": [
       "<div>\n",
       "<style scoped>\n",
       "    .dataframe tbody tr th:only-of-type {\n",
       "        vertical-align: middle;\n",
       "    }\n",
       "\n",
       "    .dataframe tbody tr th {\n",
       "        vertical-align: top;\n",
       "    }\n",
       "\n",
       "    .dataframe thead th {\n",
       "        text-align: right;\n",
       "    }\n",
       "</style>\n",
       "<table border=\"1\" class=\"dataframe\">\n",
       "  <thead>\n",
       "    <tr style=\"text-align: right;\">\n",
       "      <th></th>\n",
       "      <th>id</th>\n",
       "      <th>f0</th>\n",
       "      <th>f1</th>\n",
       "      <th>f2</th>\n",
       "      <th>product</th>\n",
       "    </tr>\n",
       "  </thead>\n",
       "  <tbody>\n",
       "    <tr>\n",
       "      <th>0</th>\n",
       "      <td>fwXo0</td>\n",
       "      <td>-1.146987</td>\n",
       "      <td>0.963328</td>\n",
       "      <td>-0.828965</td>\n",
       "      <td>27.758673</td>\n",
       "    </tr>\n",
       "    <tr>\n",
       "      <th>1</th>\n",
       "      <td>WJtFt</td>\n",
       "      <td>0.262778</td>\n",
       "      <td>0.269839</td>\n",
       "      <td>-2.530187</td>\n",
       "      <td>56.069697</td>\n",
       "    </tr>\n",
       "    <tr>\n",
       "      <th>2</th>\n",
       "      <td>ovLUW</td>\n",
       "      <td>0.194587</td>\n",
       "      <td>0.289035</td>\n",
       "      <td>-5.586433</td>\n",
       "      <td>62.871910</td>\n",
       "    </tr>\n",
       "    <tr>\n",
       "      <th>3</th>\n",
       "      <td>q6cA6</td>\n",
       "      <td>2.236060</td>\n",
       "      <td>-0.553760</td>\n",
       "      <td>0.930038</td>\n",
       "      <td>114.572842</td>\n",
       "    </tr>\n",
       "    <tr>\n",
       "      <th>4</th>\n",
       "      <td>WPMUX</td>\n",
       "      <td>-0.515993</td>\n",
       "      <td>1.716266</td>\n",
       "      <td>5.899011</td>\n",
       "      <td>149.600746</td>\n",
       "    </tr>\n",
       "  </tbody>\n",
       "</table>\n",
       "</div>"
      ],
      "text/plain": [
       "      id        f0        f1        f2     product\n",
       "0  fwXo0 -1.146987  0.963328 -0.828965   27.758673\n",
       "1  WJtFt  0.262778  0.269839 -2.530187   56.069697\n",
       "2  ovLUW  0.194587  0.289035 -5.586433   62.871910\n",
       "3  q6cA6  2.236060 -0.553760  0.930038  114.572842\n",
       "4  WPMUX -0.515993  1.716266  5.899011  149.600746"
      ]
     },
     "execution_count": 19,
     "metadata": {},
     "output_type": "execute_result"
    }
   ],
   "source": [
    "data_2.head()"
   ]
  },
  {
   "cell_type": "code",
   "execution_count": 20,
   "metadata": {},
   "outputs": [
    {
     "data": {
      "image/png": "[encoded data removed]",
      "text/plain": [
       "<Figure size 1080x1440 with 4 Axes>"
      ]
     },
     "metadata": {
      "needs_background": "light"
     },
     "output_type": "display_data"
    }
   ],
   "source": [
    "data_2.hist(figsize = (15,20));"
   ]
  },
  {
   "cell_type": "code",
   "execution_count": 21,
   "metadata": {},
   "outputs": [
    {
     "data": {
      "text/plain": [
       "0"
      ]
     },
     "execution_count": 21,
     "metadata": {},
     "output_type": "execute_result"
    }
   ],
   "source": [
    "data_2.duplicated().sum()"
   ]
  },
  {
   "cell_type": "code",
   "execution_count": 22,
   "metadata": {},
   "outputs": [
    {
     "data": {
      "text/plain": [
       "<AxesSubplot:>"
      ]
     },
     "execution_count": 22,
     "metadata": {},
     "output_type": "execute_result"
    },
    {
     "data": {
      "image/png": "[encoded data removed]",
      "text/plain": [
       "<Figure size 432x288 with 2 Axes>"
      ]
     },
     "metadata": {
      "needs_background": "light"
     },
     "output_type": "display_data"
    }
   ],
   "source": [
    "#heatmap для третьего датасета\n",
    "sns.heatmap(data_2.corr())"
   ]
  },
  {
   "cell_type": "code",
   "execution_count": 23,
   "metadata": {},
   "outputs": [
    {
     "data": {
      "text/plain": [
       "4"
      ]
     },
     "execution_count": 23,
     "metadata": {},
     "output_type": "execute_result"
    }
   ],
   "source": [
    "data_2[\"id\"].duplicated().sum()"
   ]
  },
  {
   "cell_type": "markdown",
   "metadata": {},
   "source": [
    "Вывод: данные загружены и требуется дополнительная предобработка по удалению дупликатов в каждом датасете по id"
   ]
  },
  {
   "cell_type": "markdown",
   "metadata": {},
   "source": [
    "<b>Совет:</b><br>\n",
    "* Чтобы лучше узнать данные, можно проверить дубликаты по `id`    \n",
    "\n",
    "* Еще важно уделять внимание мультиколлинеарности признаков в линейных моделях.<br>\n",
    "Мультиколлинеарность — явление, при котором наблюдается сильная корреляция между признаками, что может негативно отразиться на модели.<br>\n",
    "\n",
    "Рекомендую посмотреть отрывок из курса Статистики - [\"Корреляция и регрессия\".](https://stepik.org/lesson/8086/step/1?unit=1365) <br>\n",
    "Для удобной визуализации можно использовать - [\"Тепловая карта корреляции\".](https://www.delftstack.com/ru/howto/seaborn/correlation-heatplot-seaborn-python/) <br>\n",
    "</div>"
   ]
  },
  {
   "cell_type": "code",
   "execution_count": 24,
   "metadata": {},
   "outputs": [],
   "source": [
    "data_0 = data_0.drop_duplicates(subset=['id'])\n",
    "data_1 = data_1.drop_duplicates(subset=['id'])\n",
    "data_2 = data_2.drop_duplicates(subset=['id'])"
   ]
  },
  {
   "cell_type": "markdown",
   "metadata": {},
   "source": [
    "## Обучение и проверка модели"
   ]
  },
  {
   "cell_type": "markdown",
   "metadata": {},
   "source": [
    "Перед разбивкой данных и обучением моделей, прbменим OrdinalEncoder\n",
    "Затем разобьём данные на обучающую и валидационную выборки в соотношении 75:25"
   ]
  },
  {
   "cell_type": "code",
   "execution_count": 25,
   "metadata": {},
   "outputs": [
    {
     "name": "stdout",
     "output_type": "stream",
     "text": [
      "Размер тренировочной выборки 1 датасета- 75%\n",
      "Размер валидационной выборки 1 датасета - 25%\n"
     ]
    }
   ],
   "source": [
    "#2.1. Разбейте данные на обучающую и валидационную выборки в соотношении 75:25.\n",
    " \n",
    "#ПЕрвый регион\n",
    "data_0_without_ID = data_0.drop(\"id\", axis = 1)\n",
    "\n",
    "encoder_0 = OrdinalEncoder() \n",
    "encoder_0.fit(data_0_without_ID)\n",
    "\n",
    "data_ordinal_0 = pd.DataFrame(encoder_0.transform(data_0_without_ID), columns=data_0_without_ID.columns)\n",
    "\n",
    "\n",
    "target_0=data_0_without_ID['product']\n",
    "features_0=data_0_without_ID.drop(['product'], axis=1)\n",
    "\n",
    "features_train_0, features_valid_0, target_train_0, target_valid_0 = train_test_split(features_0, target_0, test_size=0.25, random_state=42)\n",
    "len_t_v=target_valid_0.shape[0]/target_0.shape[0]\n",
    "len_t_t=target_train_0.shape[0]/target_0.shape[0]\n",
    "\n",
    "print('Размер тренировочной выборки 1 датасета- {:.0%}'.format(len_t_t))\n",
    "print('Размер валидационной выборки 1 датасета - {:.0%}'.format(len_t_v))"
   ]
  },
  {
   "cell_type": "markdown",
   "metadata": {},
   "source": [
    "<div class=\"alert alert-block alert-warning\"><b>Комментарий ревьюера V-2</b>\n",
    "    \n",
    "<b>Совет:</b><br>\n",
    "Код с применением  `OrdinalEncoder()` лишний, т.к. в этом проекте нет категориальных признаков.   \n",
    "    \n",
    "```python\n",
    "encoder_0 = OrdinalEncoder() \n",
    "encoder_0.fit(data_0_without_ID)\n",
    "\n",
    "data_ordinal_0 = pd.DataFrame(encoder_0.transform(data_0_without_ID), columns=data_0_without_ID.columns)\n",
    "    \n",
    "```   \n",
    "    \n",
    "Лучше для каждого региона эту часть кода убрать.    \n",
    "</div>"
   ]
  },
  {
   "cell_type": "code",
   "execution_count": 26,
   "metadata": {},
   "outputs": [
    {
     "name": "stdout",
     "output_type": "stream",
     "text": [
      "Размер тренировочной выборки 2го датасета- 25%\n",
      "Размер валидационной выборки 2го датасета - 75%\n"
     ]
    }
   ],
   "source": [
    "#Второй регион\n",
    "data_1_without_ID = data_1.drop(\"id\", axis = 1)\n",
    "\n",
    "encoder_1 = OrdinalEncoder() \n",
    "encoder_1.fit(data_1_without_ID)\n",
    "\n",
    "data_ordinal_1 = pd.DataFrame(encoder_1.transform(data_1_without_ID), columns=data_1_without_ID.columns)\n",
    "\n",
    "target_1=data_1_without_ID['product']\n",
    "features_1=data_1_without_ID.drop(['product'], axis=1)\n",
    "\n",
    "features_train_1, features_valid_1, target_train_1, target_valid_1 = train_test_split(features_1, target_1, test_size=0.25, random_state=42)\n",
    "len_t_v=target_valid_1.shape[0]/target_1.shape[0]\n",
    "len_t_t=target_train_1.shape[0]/target_1.shape[0]\n",
    "\n",
    "print('Размер тренировочной выборки 2го датасета- {:.0%}'.format(len_t_v))\n",
    "print('Размер валидационной выборки 2го датасета - {:.0%}'.format(len_t_t))"
   ]
  },
  {
   "cell_type": "code",
   "execution_count": 27,
   "metadata": {},
   "outputs": [
    {
     "name": "stdout",
     "output_type": "stream",
     "text": [
      "Размер тренировочной выборки 3го датасета- 75%\n",
      "Размер валидационной выборки 3го датасета- 25%\n"
     ]
    }
   ],
   "source": [
    "#Третий регион\n",
    "data_2_without_ID = data_2.drop(\"id\", axis = 1)\n",
    "\n",
    "encoder_2 = OrdinalEncoder() \n",
    "encoder_2.fit(data_2_without_ID)\n",
    "data_ordinal_2 = pd.DataFrame(encoder_2.transform(data_2_without_ID), columns = data_2_without_ID.columns)\n",
    "\n",
    "\n",
    "target_2=data_2_without_ID['product']\n",
    "features_2=data_2_without_ID.drop(['product'], axis=1)\n",
    "\n",
    "features_train_2, features_valid_2, target_train_2, target_valid_2 = train_test_split(features_2, target_2, test_size=0.25, random_state=42)\n",
    "len_t_v=target_valid_2.shape[0]/target_2.shape[0]\n",
    "len_t_t=target_train_2.shape[0]/target_2.shape[0]\n",
    "\n",
    "print('Размер тренировочной выборки 3го датасета- {:.0%}'.format(len_t_t))\n",
    "print('Размер валидационной выборки 3го датасета- {:.0%}'.format(len_t_v))"
   ]
  },
  {
   "cell_type": "markdown",
   "metadata": {},
   "source": [
    "  <b>Совет:</b><br>\n",
    "Оставлю совет для будущих проектов))<br>\n",
    "`При кодировании/масштабировании обучаем только на трейне!)`    \n",
    "</div>"
   ]
  },
  {
   "cell_type": "code",
   "execution_count": 28,
   "metadata": {},
   "outputs": [
    {
     "name": "stdout",
     "output_type": "stream",
     "text": [
      "Среднеквадратичная ошибка RMSE: 37.69\n",
      "Коэффициент детерминации: 0.27\n"
     ]
    }
   ],
   "source": [
    "#2.2. Обучим модель и сделаем предсказания на валидационной выборке.\n",
    "#Первая модель\n",
    "model_0=LinearRegression()\n",
    "model_0.fit(features_train_0,target_train_0)\n",
    "predict_0=model_0.predict(features_valid_0)\n",
    "rmse_0 = mean_squared_error(target_valid_0, predict_0)**0.5\n",
    "r2_score_0 = r2_score(target_valid_0, predict_0)\n",
    "print('Среднеквадратичная ошибка RMSE: %.2f'% rmse_0)\n",
    "print('Коэффициент детерминации: %.2f' % r2_score_0)"
   ]
  },
  {
   "cell_type": "code",
   "execution_count": 29,
   "metadata": {},
   "outputs": [
    {
     "name": "stdout",
     "output_type": "stream",
     "text": [
      "Среднеквадратичная ошибка RMSE: 0.89\n",
      "Коэффициент детерминации: 1.00\n"
     ]
    }
   ],
   "source": [
    "#Вторая модель\n",
    "model_1=LinearRegression()\n",
    "model_1.fit(features_train_1,target_train_1)\n",
    "predict_1=model_1.predict(features_valid_1)\n",
    "rmse_1=mean_squared_error(target_valid_1, predict_1)**0.5\n",
    "r2_score_1 = r2_score(target_valid_1, predict_1)\n",
    "print('Среднеквадратичная ошибка RMSE: %.2f' % rmse_1)\n",
    "print('Коэффициент детерминации: %.2f' % r2_score_1)"
   ]
  },
  {
   "cell_type": "code",
   "execution_count": 30,
   "metadata": {},
   "outputs": [
    {
     "name": "stdout",
     "output_type": "stream",
     "text": [
      "Среднеквадратичная ошибка RMSE: 40.08\n",
      "Коэффициент детерминации: 0.19\n"
     ]
    }
   ],
   "source": [
    "#Третья модель\n",
    "model_2=LinearRegression()\n",
    "model_2.fit(features_train_2,target_train_2)\n",
    "predict_2=model_2.predict(features_valid_2)\n",
    "rmse_2 = mean_squared_error(target_valid_2, predict_2)**0.5\n",
    "r2_score_2 = r2_score(target_valid_2, predict_2)\n",
    "print('Среднеквадратичная ошибка RMSE: %.2f'% rmse_2)\n",
    "print('Коэффициент детерминации: %.2f' % r2_score_2)"
   ]
  },
  {
   "cell_type": "markdown",
   "metadata": {},
   "source": [
    "<b>Совет:</b><br>\n",
    "Для каждого региона действия повторяются, в таких случаях удобно использовать функцию. Это позволит не писать один и тот же код несколько раз и избегать ошибок. В случае необходимых изменений, достаточно поправить функцию, а не вносить правки несколько раз.<br>\n",
    "<br>    \n",
    "Например, в функцию можно поместить разбиение на выборки,  обучение, расчет метрики, среднего предсказанного запаса и вернуть таргет_валид, предсказания с соответствующими друг другу индексами.   \n",
    "</div>"
   ]
  },
  {
   "cell_type": "code",
   "execution_count": 31,
   "metadata": {},
   "outputs": [
    {
     "name": "stdout",
     "output_type": "stream",
     "text": [
      "1 регион:\n",
      "- предсказания модели: \"predict_0\"\n",
      "- правильные ответы: \"target_valid_0\"\n",
      "\n",
      "2 регион:\n",
      "- предсказания модели: \"predict_1\"\n",
      "- правильные ответы: \"target_valid_1\"\n",
      "\n",
      "3 регион:\n",
      "- предсказания модели: \"predict_2\"\n",
      "- правильные ответы: \"target_valid_2\"\n"
     ]
    }
   ],
   "source": [
    "#2.3. Сохраним предсказания и правильные ответы на валидационной выборке.\n",
    "print('1 регион:\\n- предсказания модели: \"predict_0\"\\n- правильные ответы: \"target_valid_0\"')\n",
    "print()\n",
    "print('2 регион:\\n- предсказания модели: \"predict_1\"\\n- правильные ответы: \"target_valid_1\"')\n",
    "print()\n",
    "print('3 регион:\\n- предсказания модели: \"predict_2\"\\n- правильные ответы: \"target_valid_2\"')"
   ]
  },
  {
   "cell_type": "code",
   "execution_count": 32,
   "metadata": {},
   "outputs": [
    {
     "name": "stdout",
     "output_type": "stream",
     "text": [
      "                         Первый регион  Второй регион  Третий регион\n",
      "Среднее по предсказанию      92.609840      68.577035      94.934787\n",
      "RMSE модели                  37.685089       0.892827      40.080822\n",
      "R2_score                      0.274539       0.999623       0.194846\n"
     ]
    }
   ],
   "source": [
    "tabl = pd.DataFrame(index=['Среднее по предсказанию','RMSE модели', 'R2_score'])\n",
    "tabl['Первый регион'] = predict_0.mean(), rmse_0, r2_score_0\n",
    "tabl['Второй регион'] = predict_1.mean(), rmse_1, r2_score_1\n",
    "tabl['Третий регион'] = predict_2.mean(), rmse_2, r2_score_2\n",
    "print(tabl)"
   ]
  },
  {
   "cell_type": "markdown",
   "metadata": {},
   "source": [
    "2.5. Проанализируем результаты. <br>\n",
    "**Вывод**\n",
    "Модели обучены и проверены на качество предсказания метрикой RMSE с помощью метода машинного обучения LinearRegression. Величина RMSE и  R2-score во втором регионе сильно отличается от первого и третьего регионов. Скорее всего модель обучилась на практически равных по величине данных."
   ]
  },
  {
   "cell_type": "markdown",
   "metadata": {},
   "source": [
    "Обращаем внимание на размер ошибки, в двух других регионах она катастрофически большая - почти 40% от  среднего запаса. Если ошибка (RMSE) меньше, значит прогноз точнее и модель лучше обучилась. Если посмотреть корреляцию между признаками и целевой переменной, можно понять почему в одном из регионов ошибка минимальная. Высокий коэффициент корреляции `f2` и целевой переменной говорит о сильной прямой линейной зависимости.\n",
    "<br>    \n",
    "Т.к. средний запас в каждом регионе ниже объема безубыточности и при выборе скважин опираемся на предсказания, то качество предсказания имеет огромное значение - важно определить скважины с максимальным запасом.     \n",
    "</div>  "
   ]
  },
  {
   "cell_type": "markdown",
   "metadata": {},
   "source": [
    "## Подготовка к расчёту прибыли"
   ]
  },
  {
   "cell_type": "markdown",
   "metadata": {},
   "source": [
    "#3.1. Все ключевые значения для расчётов сохраните в отдельных переменных. <br>\n",
    "При разведке региона исследуют 500 точек, из которых с помощью машинного обучения выбирают 200 лучших для разработки. Бюджет на разработку скважин в регионе — 10 млрд рублей. При нынешних ценах один баррель сырья приносит 450 рублей дохода. Доход с каждой единицы продукта составляет 450 тыс. рублей, поскольку объём указан в тысячах баррелей. После оценки рисков нужно оставить лишь те регионы, в которых вероятность убытков меньше 2.5%. Среди них выбирают регион с наибольшей средней прибылью. Данные синтетические: детали контрактов и характеристики месторождений не разглашаются."
   ]
  },
  {
   "cell_type": "code",
   "execution_count": 33,
   "metadata": {},
   "outputs": [],
   "source": [
    "#Подготовьтесь к расчёту прибыли:\n",
    "#3.1. Все ключевые значения для расчётов сохраните в отдельных переменных.\n",
    "point_for_ml = 200 #200 Точек для разработки с помощью машинного обучения\n",
    "cash = 10 ** 7 #Бюджет на разработку скважин в регионе, тыс.руб\n",
    "income = 450 #Доход с каждой единицы продукта, тыс.руб\n",
    "target_probability_losses = 2.5/100 # вероятность убытков"
   ]
  },
  {
   "cell_type": "markdown",
   "metadata": {},
   "source": [
    "<b>Совет:</b><br>\n",
    "* Согласно руководству по написанию кода на Python [PEP-8](https://pythonworld.ru/osnovy/pep-8-rukovodstvo-po-napisaniyu-koda-na-python.html#section-29) названия констант принято задавать заглавными буквами, например, `BUDGET`. А еще важно объявлять их в начале проекта после импортов, затем загрузка данных. Так проще будет их найти и изменить, если возникнет такая необходимость.\n",
    "* Для записи больших чисел можно использовать экспоненциальную запись числа - `1e7`, что означает 1 * 10**7.    \n",
    "</div>"
   ]
  },
  {
   "cell_type": "code",
   "execution_count": 34,
   "metadata": {},
   "outputs": [
    {
     "name": "stdout",
     "output_type": "stream",
     "text": [
      "Cредний запас сырья в 1 регионе: 92.50 млн.баррелей\n",
      "Cредний запас сырья в 2 регионе: 68.82 млн.баррелей\n",
      "Cредний запас сырья в 3 регионе: 95.00 млн.баррелей\n"
     ]
    }
   ],
   "source": [
    "#3.2. Рассчитайте достаточный объём сырья для безубыточной разработки новой скважины. \n",
    "product_mean_0 = data_0['product'].mean()\n",
    "product_mean_1 = data_1['product'].mean()\n",
    "product_mean_2 = data_2['product'].mean()\n",
    "print('Cредний запас сырья в 1 регионе: %.2f млн.баррелей'%product_mean_0)\n",
    "print('Cредний запас сырья в 2 регионе: %.2f млн.баррелей'%product_mean_1)\n",
    "print('Cредний запас сырья в 3 регионе: %.2f млн.баррелей'%product_mean_2)"
   ]
  },
  {
   "cell_type": "code",
   "execution_count": 35,
   "metadata": {},
   "outputs": [
    {
     "name": "stdout",
     "output_type": "stream",
     "text": [
      "Бюджет на разработку одной скважины: 50.0 млн.руб\n",
      "Объём каждой скважины для безубыточной разработки должен составлять не менее: 111.11 тыс.баррелей\n"
     ]
    }
   ],
   "source": [
    "cash_for_1_point = (cash/point_for_ml)# тыс.руб\n",
    "print('Бюджет на разработку одной скважины:', cash_for_1_point/1000,'млн.руб')\n",
    "#Рассчитаем достаточный объём сырья для безубыточной разработки новой скважин\n",
    "\n",
    "v_prod = cash_for_1_point/income\n",
    "print('Объём каждой скважины для безубыточной разработки должен составлять не менее: %.2f'%v_prod,'тыс.баррелей')"
   ]
  },
  {
   "cell_type": "code",
   "execution_count": 36,
   "metadata": {},
   "outputs": [
    {
     "name": "stdout",
     "output_type": "stream",
     "text": [
      "Сравнение полученного объема сырья со средним запасом в первом регионе\n",
      "      id        f0        f1        f2     product    profit\n",
      "0  txEyH  0.705745 -0.497823  1.221170  105.280062  47376.03\n",
      "1  2acmU  1.334711 -0.340164  4.365080   73.037750  32866.99\n",
      "2  409Wp  1.022732  0.151990  1.419926   85.265647  38369.54\n",
      "3  iJLyR -0.032172  0.139033  2.978566  168.620776  75879.35\n",
      "4  Xdl7t  1.988431  0.155413  4.751769  154.036647  69316.49\n",
      "\n",
      "Значение ROI для каждой скважины по отношению к затратам на разработку\n",
      "      id        f0        f1        f2     product    profit  roi_%\n",
      "0  txEyH  0.705745 -0.497823  1.221170  105.280062  47376.03  -5.25\n",
      "1  2acmU  1.334711 -0.340164  4.365080   73.037750  32866.99 -34.27\n",
      "2  409Wp  1.022732  0.151990  1.419926   85.265647  38369.54 -23.26\n",
      "3  iJLyR -0.032172  0.139033  2.978566  168.620776  75879.35  51.76\n",
      "4  Xdl7t  1.988431  0.155413  4.751769  154.036647  69316.49  38.63\n",
      "\n",
      "Разница объёма сырья для безубыточной разработки скважины относительно среднего значения по 1 региону составляет: -16.75%\n",
      "Или 18.61 тыс.баррелей\n"
     ]
    }
   ],
   "source": [
    "#Сравним полученный объём сырья со средним запасом в каждом регионе.\n",
    "\n",
    "#Первый регион\n",
    "print(\"Сравнение полученного объема сырья со средним запасом в первом регионе\")\n",
    "data_0['profit'] = (data_0['product'] * (income)).round(2) # profit, тыс.руб\n",
    "print(data_0.head())\n",
    "print()\n",
    "print(\"Значение ROI для каждой скважины по отношению к затратам на разработку\")\n",
    "data_0['roi_%'] = ((data_0['profit'] - cash_for_1_point)/cash_for_1_point*100).round(2)\n",
    "print(data_0.head())\n",
    "print()\n",
    "print('Разница объёма сырья для безубыточной разработки скважины относительно среднего значения по 1 региону составляет: {:.2%}'.format(product_mean_0/v_prod-1))\n",
    "print('Или {:.2f} тыс.баррелей'.format(v_prod - product_mean_0))"
   ]
  },
  {
   "cell_type": "code",
   "execution_count": 37,
   "metadata": {},
   "outputs": [
    {
     "name": "stdout",
     "output_type": "stream",
     "text": [
      "Сравнение полученного объема сырья со средним запасом во втором регионе\n",
      "\n",
      "Значение ROI для каждой скважины по отношению к затратам на разработку\n",
      "\n",
      "Разница объёма сырья для безубыточной разработки скважины относительно среднего значения по 2 региону составляет: -38.06%\n",
      "Или 42.29 тыс.баррелей\n"
     ]
    }
   ],
   "source": [
    "#Второй регион\n",
    "print(\"Сравнение полученного объема сырья со средним запасом во втором регионе\")\n",
    "data_1['profit'] = (data_1['product'] * income).round(2) # profit, тыс.руб\n",
    "data_1.head()\n",
    "print()\n",
    "print(\"Значение ROI для каждой скважины по отношению к затратам на разработку\")\n",
    "data_1['roi_%'] = ((data_1['profit'] - cash_for_1_point)/cash_for_1_point*100).round(2)\n",
    "data_1.head()\n",
    "print()\n",
    "print('Разница объёма сырья для безубыточной разработки скважины относительно среднего значения по 2 региону составляет: {:.2%}'.format(product_mean_1/v_prod-1))\n",
    "print('Или {:.2f} тыс.баррелей'.format(v_prod - product_mean_1))"
   ]
  },
  {
   "cell_type": "code",
   "execution_count": 38,
   "metadata": {},
   "outputs": [
    {
     "name": "stdout",
     "output_type": "stream",
     "text": [
      "Сравнение полученного объема сырья со средним запасом в третьем регионе\n",
      "      id        f0        f1        f2     product    profit\n",
      "0  fwXo0 -1.146987  0.963328 -0.828965   27.758673  12491.40\n",
      "1  WJtFt  0.262778  0.269839 -2.530187   56.069697  25231.36\n",
      "2  ovLUW  0.194587  0.289035 -5.586433   62.871910  28292.36\n",
      "3  q6cA6  2.236060 -0.553760  0.930038  114.572842  51557.78\n",
      "4  WPMUX -0.515993  1.716266  5.899011  149.600746  67320.34\n",
      "\n",
      "Значение ROI для каждой скважины по отношению к затратам на разработку\n",
      "      id        f0        f1        f2     product    profit  roi_%\n",
      "0  fwXo0 -1.146987  0.963328 -0.828965   27.758673  12491.40 -75.02\n",
      "1  WJtFt  0.262778  0.269839 -2.530187   56.069697  25231.36 -49.54\n",
      "2  ovLUW  0.194587  0.289035 -5.586433   62.871910  28292.36 -43.42\n",
      "3  q6cA6  2.236060 -0.553760  0.930038  114.572842  51557.78   3.12\n",
      "4  WPMUX -0.515993  1.716266  5.899011  149.600746  67320.34  34.64\n",
      "\n",
      "Разница объёма сырья для безубыточной разработки скважины относительно среднего значения по 3 региону составляет: -14.50%\n",
      "Или 16.11 тыс.баррелей\n"
     ]
    }
   ],
   "source": [
    "#Третий регион\n",
    "print(\"Сравнение полученного объема сырья со средним запасом в третьем регионе\")\n",
    "data_2['profit'] = (data_2['product'] * income).round(2) # profit, тыс.руб\n",
    "print(data_2.head())\n",
    "print()\n",
    "print(\"Значение ROI для каждой скважины по отношению к затратам на разработку\")\n",
    "data_2['roi_%'] = ((data_2['profit'] - cash_for_1_point)/cash_for_1_point*100).round(2)\n",
    "print(data_2.head())\n",
    "print()\n",
    "\n",
    "print('Разница объёма сырья для безубыточной разработки скважины относительно среднего значения по 3 региону составляет: {:.2%}'.format(product_mean_2/v_prod-1))\n",
    "print('Или {:.2f} тыс.баррелей'.format(v_prod - product_mean_2))"
   ]
  },
  {
   "cell_type": "code",
   "execution_count": 39,
   "metadata": {},
   "outputs": [],
   "source": [
    "#3.3. Напишишем выводы по этапу подготовки расчёта прибыли."
   ]
  },
  {
   "cell_type": "markdown",
   "metadata": {},
   "source": [
    "**Вывод:**\n",
    "\n",
    "\n",
    "\n",
    "Исходя из полученных данных становится очевидно, что среднее количество запасов сырья по регионам недостаточное даже для окупаемости разработки, требуется выбрать скважины с максимальными запасами"
   ]
  },
  {
   "cell_type": "markdown",
   "metadata": {},
   "source": [
    "<div class=\"alert alert-block alert-success\"><b>Комментарий ревьюера </b><br>\n",
    "    \n",
    "В каждом регионе средний объем сырья меньше достаточного объёма для безубыточности. Есть 25 000 точек, из которых надо выбрать 200. В результате, среди этих скважин могут быть скважины с достаточным и недостаточным запасом сырья. <br>\n",
    "    \n",
    "**При выборе скважин опираемся на предсказания, поэтому точность прогноза имеет большое значение** и без модели нам не обойтись.<br>  \n",
    "    \n",
    "Главная задача - выбрать скважины с достаточным запасом сырья. <br>    \n",
    "\n",
    "    \n",
    "   \n",
    "</div>"
   ]
  },
  {
   "cell_type": "code",
   "execution_count": 40,
   "metadata": {},
   "outputs": [],
   "source": [
    "#Создадим функцию для расчета прибыли по выбранным скважинам и предсказаниям модели"
   ]
  },
  {
   "cell_type": "code",
   "execution_count": 41,
   "metadata": {},
   "outputs": [
    {
     "name": "stdout",
     "output_type": "stream",
     "text": [
      "Суммарный запас сырья в 200 лучших скважинах составит: 31007.79 тыс.баррелей\n"
     ]
    }
   ],
   "source": [
    "probs_sorted_0 = pd.Series(predict_0, index=target_valid_0.index).sort_values(ascending=False)\n",
    "selected_max_0 = probs_sorted_0[:point_for_ml]\n",
    "#Просуммируем целевое значение объёма сырья, соответствующее этим предсказаниям\n",
    "selected_max_0_sum = selected_max_0.sum()\n",
    "print('Суммарный запас сырья в 200 лучших скважинах составит: %.2f тыс.баррелей'%selected_max_0_sum)"
   ]
  },
  {
   "cell_type": "markdown",
   "metadata": {},
   "source": [
    "## Расчёт прибыли и рисков "
   ]
  },
  {
   "cell_type": "code",
   "execution_count": 42,
   "metadata": {},
   "outputs": [
    {
     "name": "stdout",
     "output_type": "stream",
     "text": [
      "Прибыль для полученного объёма сырья составит 3953505.89 тыс.рублей\n"
     ]
    }
   ],
   "source": [
    "#Рассчитаем прибыль для полученного объёма сырья\n",
    "#Для первого регион\n",
    "profit_pred_0 = (selected_max_0_sum * income) - cash\n",
    "print('Прибыль для полученного объёма сырья составит %.2f тыс.рублей'%profit_pred_0)"
   ]
  },
  {
   "cell_type": "code",
   "execution_count": 43,
   "metadata": {},
   "outputs": [],
   "source": [
    "#Сдалаем функцию\n",
    "def profit_pv(predict,target,count):\n",
    "    probs_sorted = pd.Series(predict, index = target.index).sort_values(ascending=False)\n",
    "    selected_max = probs_sorted[:count].sum()\n",
    "    profit_pred=(selected_max * income) - cash\n",
    "    print('Суммарный запас сырья в 200 лучших скважинах составит: %.2f тыс.баррелей'%selected_max)\n",
    "    print('Прибыль для полученного объёма сырья составит %.2f млн.рублей'%(profit_pred/1000))"
   ]
  },
  {
   "cell_type": "code",
   "execution_count": 44,
   "metadata": {},
   "outputs": [
    {
     "name": "stdout",
     "output_type": "stream",
     "text": [
      "Суммарный запас сырья в 200 лучших скважинах составит: 31007.79 тыс.баррелей\n",
      "Прибыль для полученного объёма сырья составит 3953.51 млн.рублей\n"
     ]
    }
   ],
   "source": [
    "#Первый регион\n",
    "profit_pv(predict_0,target_valid_0,200)"
   ]
  },
  {
   "cell_type": "code",
   "execution_count": 45,
   "metadata": {},
   "outputs": [
    {
     "name": "stdout",
     "output_type": "stream",
     "text": [
      "Суммарный запас сырья в 200 лучших скважинах составит: 27740.13 тыс.баррелей\n",
      "Прибыль для полученного объёма сырья составит 2483.06 млн.рублей\n"
     ]
    }
   ],
   "source": [
    "#Второй регион\n",
    "\n",
    "profit_pv(predict_1,target_valid_1,200)"
   ]
  },
  {
   "cell_type": "code",
   "execution_count": 46,
   "metadata": {},
   "outputs": [
    {
     "name": "stdout",
     "output_type": "stream",
     "text": [
      "Суммарный запас сырья в 200 лучших скважинах составит: 29607.80 тыс.баррелей\n",
      "Прибыль для полученного объёма сырья составит 3323.51 млн.рублей\n"
     ]
    }
   ],
   "source": [
    "#Третий регион\n",
    "profit_pv(predict_2,target_valid_2,200)"
   ]
  },
  {
   "cell_type": "markdown",
   "metadata": {},
   "source": [
    "Все три региона потенциально прибыльные\n",
    "Применим технику Bootstrap с 1000 выборок, чтобы найти распределение прибыли"
   ]
  },
  {
   "cell_type": "markdown",
   "metadata": {},
   "source": [
    "Найдём среднюю прибыль, 95%-й доверительный интервал и риск убытков"
   ]
  },
  {
   "cell_type": "code",
   "execution_count": 47,
   "metadata": {},
   "outputs": [],
   "source": [
    "def profit_for_vp2(predict,target,count):\n",
    "    probs_sorted = pd.Series(predict).sort_values(ascending=False)\n",
    "    selected_points = target[probs_sorted.index][:count]\n",
    "    product = selected_points.sum()\n",
    "    revenue = product * income\n",
    "    return revenue - cash"
   ]
  },
  {
   "cell_type": "code",
   "execution_count": 48,
   "metadata": {},
   "outputs": [],
   "source": [
    "def bootstap_1000(target,predict):\n",
    "    values = []\n",
    "    count=0\n",
    "    state = np.random.RandomState(12345)\n",
    "    predict_e = pd.Series(predict, index=target.index)\n",
    "    \n",
    "    for i in tqdm(range(1000)):\n",
    "        target_subsample = target.sample(n=500,replace=True, random_state=state)\n",
    "  \n",
    "        probs_subsample = predict_e[target_subsample.index]\n",
    "        values.append(profit_for_vp2(probs_subsample,target_subsample, 200))  \n",
    "    for i in values:\n",
    "        if i < 0:\n",
    "            count +=1\n",
    "            \n",
    "    values = pd.Series(values)\n",
    "    mean = values.mean()\n",
    "    confidence_interval = st.t.interval(0.95, len(values)-1, values.mean(), values.sem())\n",
    "    \n",
    "    plt.title('Распределение прибыли')\n",
    "    values.plot(kind=\"hist\", grid=True, figsize=(8,5))\n",
    "    plt.xlabel('Прибыль, тыс.руб')\n",
    "    plt.ylabel('Количество')\n",
    "    plt.show()\n",
    "    \n",
    "    low_95 = values.quantile(0.025)\n",
    "    high_95 = values.quantile(0.975)\n",
    "    \n",
    "    print(\"Средняя прибыль: {:.2f} млн.руб\".format(mean/1000))\n",
    "    print('С вероятностью 95% прибыль в данном регионе будет составлять от: {:.2f} млн.руб до: {:.2f} млн.руб'.format((low_95/1000),(high_95/1000)))\n",
    "    print(\"95%-ый доверительный интервал: от {:.2f} млн.руб до {:.2f} млн.руб\". format((confidence_interval[0]/1000),(confidence_interval[1]/1000)))\n",
    "    print ('Процент вероятности убытка в данном регионе составит {:.1%}'.format(count/1000))\n"
   ]
  },
  {
   "cell_type": "markdown",
   "metadata": {},
   "source": [
    "### Совет\n",
    "При семплировании данных нужно устанавливаешь `replace = True`, это необходимо чтобы наблюдение в выборку попало несколько раз, что позволяет добиться независимости при каждом выборе, иначе вероятность достать элемент из выборки будет с каждым разом увеличиваться. Чем больше размер подвыборки, тем выраженнее будет зависимость, поэтому без возврата не удастся получить разнообразные варианты, а подвыборку бОльшего размера вообще не получить.\n",
    "\n",
    "Почему именно так. Вспомним, что выборка - это некоторое представление о генеральной совокупности, ее часть. Значит, что где-то в регионе существуют и другие потенциальные точки добычи нефти, о которых мы можем не знать, но они являются частью этой генеральной совокупности. В этом случае повторяющиеся наблюдения можно считать разными точками добычи из всей генеральной совокупности с близкими характеристиками.\n",
    "    \n",
    "</div>  "
   ]
  },
  {
   "cell_type": "code",
   "execution_count": 49,
   "metadata": {},
   "outputs": [
    {
     "data": {
      "application/vnd.jupyter.widget-view+json": {
       "model_id": "f4ee732d37874db6acf04d775d4cd867",
       "version_major": 2,
       "version_minor": 0
      },
      "text/plain": [
       "  0%|          | 0/1000 [00:00<?, ?it/s]"
      ]
     },
     "metadata": {},
     "output_type": "display_data"
    },
    {
     "data": {
      "image/png": "[encoded data removed]",
      "text/plain": [
       "<Figure size 576x360 with 1 Axes>"
      ]
     },
     "metadata": {
      "needs_background": "light"
     },
     "output_type": "display_data"
    },
    {
     "name": "stdout",
     "output_type": "stream",
     "text": [
      "Средняя прибыль: 447.53 млн.руб\n",
      "С вероятностью 95% прибыль в данном регионе будет составлять от: -91.01 млн.руб до: 997.54 млн.руб\n",
      "95%-ый доверительный интервал: от 430.18 млн.руб до 464.88 млн.руб\n",
      "Процент вероятности убытка в данном регионе составит 5.3%\n"
     ]
    }
   ],
   "source": [
    "#Распределение прибыли 1 регион\n",
    "bootstap_1000(target_valid_0,predict_0)"
   ]
  },
  {
   "cell_type": "code",
   "execution_count": 50,
   "metadata": {},
   "outputs": [
    {
     "data": {
      "application/vnd.jupyter.widget-view+json": {
       "model_id": "6b9cdd0f36d04a4d84f4ebd888d15fc8",
       "version_major": 2,
       "version_minor": 0
      },
      "text/plain": [
       "  0%|          | 0/1000 [00:00<?, ?it/s]"
      ]
     },
     "metadata": {},
     "output_type": "display_data"
    },
    {
     "data": {
      "image/png": "[encoded data removed]",
      "text/plain": [
       "<Figure size 576x360 with 1 Axes>"
      ]
     },
     "metadata": {
      "needs_background": "light"
     },
     "output_type": "display_data"
    },
    {
     "name": "stdout",
     "output_type": "stream",
     "text": [
      "Средняя прибыль: 491.07 млн.руб\n",
      "С вероятностью 95% прибыль в данном регионе будет составлять от: 95.23 млн.руб до: 960.07 млн.руб\n",
      "95%-ый доверительный интервал: от 477.25 млн.руб до 504.89 млн.руб\n",
      "Процент вероятности убытка в данном регионе составит 0.7%\n"
     ]
    }
   ],
   "source": [
    "#Распределение прибыли 2 регион\n",
    "bootstap_1000(target_valid_1,predict_1)"
   ]
  },
  {
   "cell_type": "code",
   "execution_count": 51,
   "metadata": {},
   "outputs": [
    {
     "data": {
      "application/vnd.jupyter.widget-view+json": {
       "model_id": "e1184879bc974413a73d62c671d6b5a4",
       "version_major": 2,
       "version_minor": 0
      },
      "text/plain": [
       "  0%|          | 0/1000 [00:00<?, ?it/s]"
      ]
     },
     "metadata": {},
     "output_type": "display_data"
    },
    {
     "data": {
      "image/png": "[encoded data removed]",
      "text/plain": [
       "<Figure size 576x360 with 1 Axes>"
      ]
     },
     "metadata": {
      "needs_background": "light"
     },
     "output_type": "display_data"
    },
    {
     "name": "stdout",
     "output_type": "stream",
     "text": [
      "Средняя прибыль: 383.79 млн.руб\n",
      "С вероятностью 95% прибыль в данном регионе будет составлять от: -180.22 млн.руб до: 916.98 млн.руб\n",
      "95%-ый доверительный интервал: от 366.42 млн.руб до 401.15 млн.руб\n",
      "Процент вероятности убытка в данном регионе составит 7.8%\n"
     ]
    }
   ],
   "source": [
    "#Распределение прибыли 3 регион\n",
    "bootstap_1000(target_valid_2,predict_2)"
   ]
  },
  {
   "cell_type": "markdown",
   "metadata": {},
   "source": [
    "<div class=\"alert alert-block alert-success\"><b>Комментарий ревьюера </b><br>\n",
    "    \n",
    "\n",
    "Здесь ты используешь `st.t.interval` и `quantile`. На всякий случай оставлю разъяснение в чем разница :)  <br>\n",
    "`st.t.interval` показывает, что существует вероятность `95%`, что доверительный интервал `(..., ...)` содержит `....mean()`.  <br>\n",
    "<br>    \n",
    "  \n",
    "Что такое  `quantile()` очень хорошо объясняет пример - 0.5-й квантиль, это, по сути, медиана, т.е. функция `quantile(0.5)` должна вернуть такое значение, которое меньше ровно половины элементов массива.<br>  \n",
    "`quantile(0.025)` находит такое значение прибыли,  меньше которого только 2,5% элементов. И если это значение прибыли положительное, значит и риск меньше 2,5%. <br>\n",
    "Выбирая наугад 1000 раз 500 случайных скважин и отбирая из них 200 лучших, убыток получаем менее, чем в 2,5% случаев.  \n",
    "</div>"
   ]
  },
  {
   "cell_type": "markdown",
   "metadata": {},
   "source": [
    "Выбор региона\n",
    "\n",
    "После оценки рисков оставим лишь те регионы, в которых вероятность убытков меньше 2.5%. Среди них выберем регион с наибольшей средней прибылью\n",
    "Сравним среднюю прибыль, вероятность убытка и суммарный запас сырья трёх представленных регионов в таблице\n"
   ]
  },
  {
   "cell_type": "code",
   "execution_count": 52,
   "metadata": {},
   "outputs": [
    {
     "data": {
      "text/html": [
       "<div>\n",
       "<style scoped>\n",
       "    .dataframe tbody tr th:only-of-type {\n",
       "        vertical-align: middle;\n",
       "    }\n",
       "\n",
       "    .dataframe tbody tr th {\n",
       "        vertical-align: top;\n",
       "    }\n",
       "\n",
       "    .dataframe thead th {\n",
       "        text-align: right;\n",
       "    }\n",
       "</style>\n",
       "<table border=\"1\" class=\"dataframe\">\n",
       "  <thead>\n",
       "    <tr style=\"text-align: right;\">\n",
       "      <th></th>\n",
       "      <th>1 регион</th>\n",
       "      <th>2 регион</th>\n",
       "      <th>3 регион</th>\n",
       "    </tr>\n",
       "  </thead>\n",
       "  <tbody>\n",
       "    <tr>\n",
       "      <th>Средняя прибыль в регионе, млн.руб</th>\n",
       "      <td>435.84</td>\n",
       "      <td>489.66</td>\n",
       "      <td>403.95</td>\n",
       "    </tr>\n",
       "    <tr>\n",
       "      <th>Суммарный запас сырья, тыс.баррелей</th>\n",
       "      <td>3953505.894022</td>\n",
       "      <td>27748.75</td>\n",
       "      <td>29730.68</td>\n",
       "    </tr>\n",
       "    <tr>\n",
       "      <th>Вероятность убытка, %</th>\n",
       "      <td>6.2</td>\n",
       "      <td>1.1</td>\n",
       "      <td>7.0</td>\n",
       "    </tr>\n",
       "  </tbody>\n",
       "</table>\n",
       "</div>"
      ],
      "text/plain": [
       "                                           1 регион  2 регион  3 регион\n",
       "Средняя прибыль в регионе, млн.руб           435.84    489.66    403.95\n",
       "Суммарный запас сырья, тыс.баррелей  3953505.894022  27748.75  29730.68\n",
       "Вероятность убытка, %                           6.2       1.1       7.0"
      ]
     },
     "execution_count": 52,
     "metadata": {},
     "output_type": "execute_result"
    }
   ],
   "source": [
    "comparison_tabl = pd.DataFrame(index=['Средняя прибыль в регионе, млн.руб','Суммарный запас сырья, тыс.баррелей','Вероятность убытка, %'], columns=['1 регион','2 регион','3 регион'])\n",
    "comparison_tabl['1 регион'] = '435.84', profit_pred_0,'6.2'\n",
    "comparison_tabl['2 регион'] = '489.66', '27748.75','1.1'\n",
    "comparison_tabl['3 регион'] = '403.95', '29730.68','7.0'\n",
    "comparison_tabl"
   ]
  },
  {
   "cell_type": "markdown",
   "metadata": {},
   "source": [
    "<div class=\"alert alert-block alert-warning\"><b>Комментарий ревьюера</b>\n",
    "    \n",
    "<b>Совет:</b><br>\n",
    "Лучше значения введенные вручную заменить кодом. Если будут изменения в проекте, такие значения не изменятся автоматически, возникнет ошибка в выводах. <br>  \n",
    "</div>"
   ]
  },
  {
   "cell_type": "code",
   "execution_count": 53,
   "metadata": {},
   "outputs": [
    {
     "data": {
      "image/png": "[encoded data removed]",
      "text/plain": [
       "<Figure size 576x360 with 1 Axes>"
      ]
     },
     "metadata": {
      "needs_background": "light"
     },
     "output_type": "display_data"
    }
   ],
   "source": [
    "comparison_tabl.astype('float').iloc[0,:].plot(kind=\"bar\", figsize=(8,5), grid=True, alpha=0.7, subplots=True)\n",
    "plt.title('Средняя прибыль трёх представленных регионов')\n",
    "plt.ylabel('Средняя прибыль в регионе, млн.руб')\n",
    "plt.show()"
   ]
  },
  {
   "cell_type": "markdown",
   "metadata": {},
   "source": [
    "***Вывод***\n",
    "\n",
    "Согласно распределению среднего значения прибыли с региона, самым прибыльным оказался 2 регион, средняя прибыль в этом регионе составит 489.66 млн.рублей. Два других региона не прошли отбор по минимально допустимому порогу убытка в 2,5%. Таким образом не смотря на то, что там меньше всего запасы сырья средняя доходность со скважин во втором регионе прогнозируется выше других.\n"
   ]
  },
  {
   "cell_type": "markdown",
   "metadata": {},
   "source": [
    "    👍 Регион `geo_data_1` выбран абсолютно верно. В этом регионе минимальный % риска, т.к. модель предсказывает хорошо (ошибка минимальная). А при выборе 200 лучших скважин мы опираемся на предсказания, поэтому ничего удивительного  -  регион победил!)\n",
    "    \n",
    "</div>  "
   ]
  }
 ],
 "metadata": {
  "ExecuteTimeLog": [
   {
    "duration": 1774,
    "start_time": "2023-03-19T18:09:37.208Z"
   },
   {
    "duration": 4,
    "start_time": "2023-03-19T18:09:39.438Z"
   },
   {
    "duration": 720,
    "start_time": "2023-03-19T18:09:41.158Z"
   },
   {
    "duration": 20,
    "start_time": "2023-03-19T18:11:04.468Z"
   },
   {
    "duration": 47,
    "start_time": "2023-03-19T18:11:24.890Z"
   },
   {
    "duration": 133,
    "start_time": "2023-03-19T18:11:34.939Z"
   },
   {
    "duration": 13,
    "start_time": "2023-03-19T18:11:41.908Z"
   },
   {
    "duration": 17,
    "start_time": "2023-03-19T18:11:45.868Z"
   },
   {
    "duration": 16,
    "start_time": "2023-03-19T18:12:06.147Z"
   },
   {
    "duration": 10,
    "start_time": "2023-03-19T18:12:12.758Z"
   },
   {
    "duration": 16,
    "start_time": "2023-03-19T18:38:59.042Z"
   },
   {
    "duration": 40,
    "start_time": "2023-03-19T18:39:02.612Z"
   },
   {
    "duration": 34,
    "start_time": "2023-03-19T18:39:05.078Z"
   },
   {
    "duration": 15,
    "start_time": "2023-03-19T18:39:07.542Z"
   },
   {
    "duration": 48,
    "start_time": "2023-03-19T18:39:09.912Z"
   },
   {
    "duration": 12,
    "start_time": "2023-03-19T18:39:12.561Z"
   },
   {
    "duration": 36,
    "start_time": "2023-03-19T18:40:48.177Z"
   },
   {
    "duration": 485,
    "start_time": "2023-03-19T18:40:55.675Z"
   },
   {
    "duration": 500,
    "start_time": "2023-03-19T18:40:59.962Z"
   },
   {
    "duration": 99,
    "start_time": "2023-03-19T18:41:31.777Z"
   },
   {
    "duration": 454,
    "start_time": "2023-03-19T18:41:35.017Z"
   },
   {
    "duration": 387,
    "start_time": "2023-03-19T18:41:40.309Z"
   },
   {
    "duration": 390,
    "start_time": "2023-03-19T18:41:51.483Z"
   },
   {
    "duration": 434,
    "start_time": "2023-03-19T18:41:55.042Z"
   },
   {
    "duration": 392,
    "start_time": "2023-03-19T18:41:58.732Z"
   },
   {
    "duration": 37,
    "start_time": "2023-03-19T18:42:31.186Z"
   },
   {
    "duration": 4,
    "start_time": "2023-03-19T18:42:38.424Z"
   },
   {
    "duration": 561,
    "start_time": "2023-03-19T18:42:42.394Z"
   },
   {
    "duration": 379,
    "start_time": "2023-03-19T18:42:47.381Z"
   },
   {
    "duration": 624,
    "start_time": "2023-03-19T18:57:04.614Z"
   },
   {
    "duration": 647,
    "start_time": "2023-03-19T18:57:23.779Z"
   },
   {
    "duration": 628,
    "start_time": "2023-03-19T18:57:34.691Z"
   },
   {
    "duration": 16,
    "start_time": "2023-03-19T18:58:19.210Z"
   },
   {
    "duration": 85,
    "start_time": "2023-03-19T18:58:25.461Z"
   },
   {
    "duration": 47,
    "start_time": "2023-03-19T18:59:10.914Z"
   },
   {
    "duration": 68,
    "start_time": "2023-03-19T18:59:16.239Z"
   },
   {
    "duration": 16,
    "start_time": "2023-03-19T18:59:41.075Z"
   },
   {
    "duration": 1979,
    "start_time": "2023-03-19T19:05:30.866Z"
   },
   {
    "duration": 517,
    "start_time": "2023-03-19T19:06:58.851Z"
   },
   {
    "duration": 518,
    "start_time": "2023-03-19T19:07:50.082Z"
   },
   {
    "duration": 1637,
    "start_time": "2023-03-20T13:22:49.867Z"
   },
   {
    "duration": 1674,
    "start_time": "2023-03-20T13:22:51.913Z"
   },
   {
    "duration": 5,
    "start_time": "2023-03-20T13:23:14.460Z"
   },
   {
    "duration": 373,
    "start_time": "2023-03-20T13:23:19.360Z"
   },
   {
    "duration": 15,
    "start_time": "2023-03-20T13:23:21.874Z"
   },
   {
    "duration": 43,
    "start_time": "2023-03-20T13:23:24.021Z"
   },
   {
    "duration": 14,
    "start_time": "2023-03-20T13:25:53.928Z"
   },
   {
    "duration": 35,
    "start_time": "2023-03-20T13:25:55.686Z"
   },
   {
    "duration": 9,
    "start_time": "2023-03-20T13:25:57.817Z"
   },
   {
    "duration": 47,
    "start_time": "2023-03-20T13:25:59.294Z"
   },
   {
    "duration": 624,
    "start_time": "2023-03-20T13:26:00.779Z"
   },
   {
    "duration": 13,
    "start_time": "2023-03-20T13:26:04.075Z"
   },
   {
    "duration": 35,
    "start_time": "2023-03-20T13:26:06.225Z"
   },
   {
    "duration": 9,
    "start_time": "2023-03-20T13:26:09.172Z"
   },
   {
    "duration": 657,
    "start_time": "2023-03-20T13:26:37.626Z"
   },
   {
    "duration": 14,
    "start_time": "2023-03-20T13:26:40.567Z"
   },
   {
    "duration": 36,
    "start_time": "2023-03-20T13:26:42.096Z"
   },
   {
    "duration": 9,
    "start_time": "2023-03-20T13:26:44.286Z"
   },
   {
    "duration": 572,
    "start_time": "2023-03-20T13:26:46.196Z"
   },
   {
    "duration": 46,
    "start_time": "2023-03-20T13:26:49.010Z"
   },
   {
    "duration": 1667,
    "start_time": "2023-03-20T13:26:59.816Z"
   },
   {
    "duration": 551,
    "start_time": "2023-03-20T13:29:06.616Z"
   },
   {
    "duration": 1768,
    "start_time": "2023-03-21T03:37:11.723Z"
   },
   {
    "duration": 661,
    "start_time": "2023-03-21T03:37:13.493Z"
   },
   {
    "duration": 28,
    "start_time": "2023-03-21T03:37:14.156Z"
   },
   {
    "duration": 42,
    "start_time": "2023-03-21T03:37:16.273Z"
   },
   {
    "duration": 9,
    "start_time": "2023-03-21T03:37:17.563Z"
   },
   {
    "duration": 49,
    "start_time": "2023-03-21T03:37:18.480Z"
   },
   {
    "duration": 553,
    "start_time": "2023-03-21T03:37:19.454Z"
   },
   {
    "duration": 15,
    "start_time": "2023-03-21T03:37:20.215Z"
   },
   {
    "duration": 37,
    "start_time": "2023-03-21T03:37:21.079Z"
   },
   {
    "duration": 10,
    "start_time": "2023-03-21T03:37:22.090Z"
   },
   {
    "duration": 44,
    "start_time": "2023-03-21T03:37:23.003Z"
   },
   {
    "duration": 646,
    "start_time": "2023-03-21T03:37:24.017Z"
   },
   {
    "duration": 14,
    "start_time": "2023-03-21T03:37:25.007Z"
   },
   {
    "duration": 47,
    "start_time": "2023-03-21T03:37:25.714Z"
   },
   {
    "duration": 11,
    "start_time": "2023-03-21T03:37:26.936Z"
   },
   {
    "duration": 555,
    "start_time": "2023-03-21T03:37:27.416Z"
   },
   {
    "duration": 43,
    "start_time": "2023-03-21T03:37:28.628Z"
   },
   {
    "duration": 567,
    "start_time": "2023-03-21T03:37:31.754Z"
   },
   {
    "duration": 525,
    "start_time": "2023-03-21T03:37:34.290Z"
   },
   {
    "duration": 618,
    "start_time": "2023-03-21T03:37:35.423Z"
   },
   {
    "duration": 168,
    "start_time": "2023-03-21T03:40:03.574Z"
   },
   {
    "duration": 18,
    "start_time": "2023-03-21T03:40:04.644Z"
   },
   {
    "duration": 16,
    "start_time": "2023-03-21T03:40:13.383Z"
   },
   {
    "duration": 19,
    "start_time": "2023-03-21T03:41:23.174Z"
   },
   {
    "duration": 12,
    "start_time": "2023-03-21T03:47:09.174Z"
   },
   {
    "duration": 1569,
    "start_time": "2023-03-21T03:47:56.456Z"
   },
   {
    "duration": 449,
    "start_time": "2023-03-21T03:47:58.027Z"
   },
   {
    "duration": 17,
    "start_time": "2023-03-21T03:47:58.478Z"
   },
   {
    "duration": 63,
    "start_time": "2023-03-21T03:47:58.497Z"
   },
   {
    "duration": 9,
    "start_time": "2023-03-21T03:47:58.562Z"
   },
   {
    "duration": 54,
    "start_time": "2023-03-21T03:47:58.573Z"
   },
   {
    "duration": 664,
    "start_time": "2023-03-21T03:47:58.629Z"
   },
   {
    "duration": 20,
    "start_time": "2023-03-21T03:47:59.295Z"
   },
   {
    "duration": 61,
    "start_time": "2023-03-21T03:47:59.317Z"
   },
   {
    "duration": 11,
    "start_time": "2023-03-21T03:47:59.381Z"
   },
   {
    "duration": 66,
    "start_time": "2023-03-21T03:47:59.463Z"
   },
   {
    "duration": 664,
    "start_time": "2023-03-21T03:48:00.459Z"
   },
   {
    "duration": 32,
    "start_time": "2023-03-21T03:48:01.125Z"
   },
   {
    "duration": 35,
    "start_time": "2023-03-21T03:48:02.156Z"
   },
   {
    "duration": 13,
    "start_time": "2023-03-21T03:48:02.294Z"
   },
   {
    "duration": 674,
    "start_time": "2023-03-21T03:48:02.545Z"
   },
   {
    "duration": 75,
    "start_time": "2023-03-21T03:48:03.221Z"
   },
   {
    "duration": 704,
    "start_time": "2023-03-21T03:48:05.865Z"
   },
   {
    "duration": 647,
    "start_time": "2023-03-21T03:48:06.572Z"
   },
   {
    "duration": 657,
    "start_time": "2023-03-21T03:48:07.220Z"
   },
   {
    "duration": 25,
    "start_time": "2023-03-21T03:48:07.879Z"
   },
   {
    "duration": 113,
    "start_time": "2023-03-21T03:48:07.944Z"
   },
   {
    "duration": 23,
    "start_time": "2023-03-21T03:48:08.234Z"
   },
   {
    "duration": 11,
    "start_time": "2023-03-21T03:48:09.095Z"
   },
   {
    "duration": 11,
    "start_time": "2023-03-21T03:49:04.056Z"
   },
   {
    "duration": 10,
    "start_time": "2023-03-21T03:49:13.593Z"
   },
   {
    "duration": 19,
    "start_time": "2023-03-21T03:54:41.297Z"
   },
   {
    "duration": 16,
    "start_time": "2023-03-21T03:54:56.926Z"
   },
   {
    "duration": 128,
    "start_time": "2023-03-21T03:54:57.647Z"
   },
   {
    "duration": 44,
    "start_time": "2023-03-21T03:54:59.600Z"
   },
   {
    "duration": 24,
    "start_time": "2023-03-21T03:55:14.624Z"
   },
   {
    "duration": 130,
    "start_time": "2023-03-21T03:55:44.264Z"
   },
   {
    "duration": 7,
    "start_time": "2023-03-21T03:55:48.835Z"
   },
   {
    "duration": 11,
    "start_time": "2023-03-21T03:56:30.263Z"
   },
   {
    "duration": 20,
    "start_time": "2023-03-21T03:57:03.413Z"
   },
   {
    "duration": 31,
    "start_time": "2023-03-21T03:57:04.313Z"
   },
   {
    "duration": 90,
    "start_time": "2023-03-21T03:57:05.356Z"
   },
   {
    "duration": 4,
    "start_time": "2023-03-21T03:57:08.703Z"
   },
   {
    "duration": 10,
    "start_time": "2023-03-21T03:57:09.793Z"
   },
   {
    "duration": 1524,
    "start_time": "2023-03-21T08:22:22.146Z"
   },
   {
    "duration": 1611,
    "start_time": "2023-03-21T08:22:23.672Z"
   },
   {
    "duration": 15,
    "start_time": "2023-03-21T08:22:25.285Z"
   },
   {
    "duration": 37,
    "start_time": "2023-03-21T08:22:25.302Z"
   },
   {
    "duration": 8,
    "start_time": "2023-03-21T08:22:25.341Z"
   },
   {
    "duration": 57,
    "start_time": "2023-03-21T08:22:25.350Z"
   },
   {
    "duration": 534,
    "start_time": "2023-03-21T08:22:25.408Z"
   },
   {
    "duration": 13,
    "start_time": "2023-03-21T08:22:25.943Z"
   },
   {
    "duration": 46,
    "start_time": "2023-03-21T08:22:25.958Z"
   },
   {
    "duration": 8,
    "start_time": "2023-03-21T08:22:26.006Z"
   },
   {
    "duration": 59,
    "start_time": "2023-03-21T08:22:26.016Z"
   },
   {
    "duration": 620,
    "start_time": "2023-03-21T08:22:26.077Z"
   },
   {
    "duration": 14,
    "start_time": "2023-03-21T08:22:26.698Z"
   },
   {
    "duration": 32,
    "start_time": "2023-03-21T08:22:26.714Z"
   },
   {
    "duration": 8,
    "start_time": "2023-03-21T08:22:26.747Z"
   },
   {
    "duration": 546,
    "start_time": "2023-03-21T08:22:26.775Z"
   },
   {
    "duration": 52,
    "start_time": "2023-03-21T08:22:27.323Z"
   },
   {
    "duration": 496,
    "start_time": "2023-03-21T08:22:27.377Z"
   },
   {
    "duration": 505,
    "start_time": "2023-03-21T08:22:27.875Z"
   },
   {
    "duration": 524,
    "start_time": "2023-03-21T08:22:28.381Z"
   },
   {
    "duration": 169,
    "start_time": "2023-03-21T08:22:28.907Z"
   },
   {
    "duration": 109,
    "start_time": "2023-03-21T08:22:29.078Z"
   },
   {
    "duration": 188,
    "start_time": "2023-03-21T08:22:29.189Z"
   },
   {
    "duration": 5,
    "start_time": "2023-03-21T08:22:29.379Z"
   },
   {
    "duration": 8,
    "start_time": "2023-03-21T08:22:33.176Z"
   },
   {
    "duration": 3,
    "start_time": "2023-03-21T08:30:29.895Z"
   },
   {
    "duration": 6,
    "start_time": "2023-03-21T08:30:31.688Z"
   },
   {
    "duration": 5,
    "start_time": "2023-03-21T08:31:40.438Z"
   },
   {
    "duration": 106,
    "start_time": "2023-03-21T08:32:46.256Z"
   },
   {
    "duration": 10,
    "start_time": "2023-03-21T08:33:04.147Z"
   },
   {
    "duration": 8,
    "start_time": "2023-03-21T08:33:39.906Z"
   },
   {
    "duration": 10,
    "start_time": "2023-03-21T08:34:24.817Z"
   },
   {
    "duration": 8,
    "start_time": "2023-03-21T08:36:52.619Z"
   },
   {
    "duration": 4,
    "start_time": "2023-03-21T08:38:45.436Z"
   },
   {
    "duration": 7,
    "start_time": "2023-03-21T08:38:50.300Z"
   },
   {
    "duration": 1623,
    "start_time": "2023-03-21T08:38:58.686Z"
   },
   {
    "duration": 1712,
    "start_time": "2023-03-21T08:39:00.594Z"
   },
   {
    "duration": 1595,
    "start_time": "2023-03-21T08:39:04.417Z"
   },
   {
    "duration": 11,
    "start_time": "2023-03-21T08:39:20.047Z"
   },
   {
    "duration": 3,
    "start_time": "2023-03-21T08:44:16.980Z"
   },
   {
    "duration": 7,
    "start_time": "2023-03-21T08:44:18.980Z"
   },
   {
    "duration": 1586,
    "start_time": "2023-03-21T08:44:21.426Z"
   },
   {
    "duration": 5,
    "start_time": "2023-03-21T08:47:08.386Z"
   },
   {
    "duration": 3,
    "start_time": "2023-03-21T08:47:29.947Z"
   },
   {
    "duration": 7,
    "start_time": "2023-03-21T08:47:31.287Z"
   },
   {
    "duration": 4,
    "start_time": "2023-03-21T08:47:32.837Z"
   },
   {
    "duration": 3,
    "start_time": "2023-03-21T08:47:37.706Z"
   },
   {
    "duration": 6,
    "start_time": "2023-03-21T08:47:39.626Z"
   },
   {
    "duration": 4,
    "start_time": "2023-03-21T08:47:43.226Z"
   },
   {
    "duration": 4,
    "start_time": "2023-03-21T08:48:40.406Z"
   },
   {
    "duration": 6,
    "start_time": "2023-03-21T08:48:41.957Z"
   },
   {
    "duration": 4,
    "start_time": "2023-03-21T08:48:43.346Z"
   },
   {
    "duration": 3,
    "start_time": "2023-03-21T08:48:48.880Z"
   },
   {
    "duration": 6,
    "start_time": "2023-03-21T08:48:50.157Z"
   },
   {
    "duration": 4,
    "start_time": "2023-03-21T08:48:51.475Z"
   },
   {
    "duration": 9,
    "start_time": "2023-03-21T08:49:22.687Z"
   },
   {
    "duration": 15,
    "start_time": "2023-03-21T08:49:45.606Z"
   },
   {
    "duration": 16,
    "start_time": "2023-03-21T08:49:52.479Z"
   },
   {
    "duration": 19,
    "start_time": "2023-03-21T08:50:10.396Z"
   },
   {
    "duration": 16,
    "start_time": "2023-03-21T08:50:20.947Z"
   },
   {
    "duration": 15,
    "start_time": "2023-03-21T08:51:07.037Z"
   },
   {
    "duration": 9,
    "start_time": "2023-03-21T08:51:43.827Z"
   },
   {
    "duration": 15,
    "start_time": "2023-03-21T08:51:52.597Z"
   },
   {
    "duration": 10,
    "start_time": "2023-03-21T08:51:57.067Z"
   },
   {
    "duration": 8,
    "start_time": "2023-03-21T08:52:19.287Z"
   },
   {
    "duration": 10,
    "start_time": "2023-03-21T08:52:54.697Z"
   },
   {
    "duration": 18,
    "start_time": "2023-03-21T08:53:18.437Z"
   },
   {
    "duration": 2,
    "start_time": "2023-03-21T08:54:07.617Z"
   },
   {
    "duration": 9,
    "start_time": "2023-03-21T08:54:24.726Z"
   },
   {
    "duration": 13,
    "start_time": "2023-03-21T08:54:37.926Z"
   },
   {
    "duration": 12,
    "start_time": "2023-03-21T08:54:42.492Z"
   },
   {
    "duration": 6,
    "start_time": "2023-03-21T08:54:56.667Z"
   },
   {
    "duration": 10,
    "start_time": "2023-03-21T08:55:02.877Z"
   },
   {
    "duration": 7,
    "start_time": "2023-03-21T08:55:36.566Z"
   },
   {
    "duration": 11,
    "start_time": "2023-03-21T08:56:56.196Z"
   },
   {
    "duration": 9,
    "start_time": "2023-03-21T08:57:15.737Z"
   },
   {
    "duration": 3,
    "start_time": "2023-03-21T08:57:22.626Z"
   },
   {
    "duration": 4,
    "start_time": "2023-03-21T08:58:04.507Z"
   },
   {
    "duration": 4,
    "start_time": "2023-03-21T08:58:13.576Z"
   },
   {
    "duration": 3,
    "start_time": "2023-03-21T08:58:16.847Z"
   },
   {
    "duration": 4,
    "start_time": "2023-03-21T08:58:18.097Z"
   },
   {
    "duration": 4,
    "start_time": "2023-03-21T08:59:04.406Z"
   },
   {
    "duration": 4,
    "start_time": "2023-03-21T08:59:11.728Z"
   },
   {
    "duration": 9,
    "start_time": "2023-03-21T08:59:21.577Z"
   },
   {
    "duration": 4,
    "start_time": "2023-03-21T08:59:24.737Z"
   },
   {
    "duration": 9,
    "start_time": "2023-03-21T08:59:26.647Z"
   },
   {
    "duration": 6,
    "start_time": "2023-03-21T08:59:32.558Z"
   },
   {
    "duration": 7,
    "start_time": "2023-03-21T08:59:45.116Z"
   },
   {
    "duration": 8,
    "start_time": "2023-03-21T09:00:02.187Z"
   },
   {
    "duration": 3,
    "start_time": "2023-03-21T09:00:13.861Z"
   },
   {
    "duration": 7,
    "start_time": "2023-03-21T09:00:14.310Z"
   },
   {
    "duration": 1740,
    "start_time": "2023-03-21T09:00:17.067Z"
   },
   {
    "duration": 1642,
    "start_time": "2023-03-21T09:00:18.946Z"
   },
   {
    "duration": 1686,
    "start_time": "2023-03-21T09:00:24.817Z"
   },
   {
    "duration": 12,
    "start_time": "2023-03-21T09:01:08.906Z"
   },
   {
    "duration": 127,
    "start_time": "2023-03-21T09:01:11.266Z"
   },
   {
    "duration": 2411,
    "start_time": "2023-03-22T03:05:58.188Z"
   },
   {
    "duration": 430,
    "start_time": "2023-03-22T03:06:00.602Z"
   },
   {
    "duration": 17,
    "start_time": "2023-03-22T03:06:01.034Z"
   },
   {
    "duration": 62,
    "start_time": "2023-03-22T03:06:01.054Z"
   },
   {
    "duration": 24,
    "start_time": "2023-03-22T03:06:01.118Z"
   },
   {
    "duration": 99,
    "start_time": "2023-03-22T03:06:01.144Z"
   },
   {
    "duration": 643,
    "start_time": "2023-03-22T03:06:01.245Z"
   },
   {
    "duration": 22,
    "start_time": "2023-03-22T03:06:01.890Z"
   },
   {
    "duration": 46,
    "start_time": "2023-03-22T03:06:01.914Z"
   },
   {
    "duration": 10,
    "start_time": "2023-03-22T03:06:01.964Z"
   },
   {
    "duration": 77,
    "start_time": "2023-03-22T03:06:01.976Z"
   },
   {
    "duration": 684,
    "start_time": "2023-03-22T03:06:02.054Z"
   },
   {
    "duration": 15,
    "start_time": "2023-03-22T03:06:02.740Z"
   },
   {
    "duration": 55,
    "start_time": "2023-03-22T03:06:02.757Z"
   },
   {
    "duration": 9,
    "start_time": "2023-03-22T03:06:02.814Z"
   },
   {
    "duration": 641,
    "start_time": "2023-03-22T03:06:02.825Z"
   },
   {
    "duration": 65,
    "start_time": "2023-03-22T03:06:03.468Z"
   },
   {
    "duration": 594,
    "start_time": "2023-03-22T03:06:03.534Z"
   },
   {
    "duration": 558,
    "start_time": "2023-03-22T03:06:04.130Z"
   },
   {
    "duration": 622,
    "start_time": "2023-03-22T03:06:04.689Z"
   },
   {
    "duration": 96,
    "start_time": "2023-03-22T03:06:05.313Z"
   },
   {
    "duration": 189,
    "start_time": "2023-03-22T03:06:05.413Z"
   },
   {
    "duration": 119,
    "start_time": "2023-03-22T03:06:05.606Z"
   },
   {
    "duration": 73,
    "start_time": "2023-03-22T03:06:05.728Z"
   },
   {
    "duration": 104,
    "start_time": "2023-03-22T03:06:05.804Z"
   },
   {
    "duration": 5,
    "start_time": "2023-03-22T03:06:05.910Z"
   },
   {
    "duration": 8,
    "start_time": "2023-03-22T03:06:05.917Z"
   },
   {
    "duration": 5,
    "start_time": "2023-03-22T03:06:05.929Z"
   },
   {
    "duration": 31,
    "start_time": "2023-03-22T03:06:05.937Z"
   },
   {
    "duration": 36,
    "start_time": "2023-03-22T03:06:05.970Z"
   },
   {
    "duration": 21,
    "start_time": "2023-03-22T03:06:06.008Z"
   },
   {
    "duration": 3,
    "start_time": "2023-03-22T03:06:06.031Z"
   },
   {
    "duration": 20,
    "start_time": "2023-03-22T03:06:06.036Z"
   },
   {
    "duration": 10,
    "start_time": "2023-03-22T03:06:06.058Z"
   },
   {
    "duration": 20,
    "start_time": "2023-03-22T03:06:06.070Z"
   },
   {
    "duration": 14,
    "start_time": "2023-03-22T03:06:06.092Z"
   },
   {
    "duration": 20,
    "start_time": "2023-03-22T03:06:06.108Z"
   },
   {
    "duration": 37,
    "start_time": "2023-03-22T03:06:06.130Z"
   },
   {
    "duration": 13,
    "start_time": "2023-03-22T03:06:06.169Z"
   },
   {
    "duration": 12,
    "start_time": "2023-03-22T03:06:06.184Z"
   },
   {
    "duration": 8,
    "start_time": "2023-03-22T03:06:06.198Z"
   },
   {
    "duration": 1823,
    "start_time": "2023-03-22T03:06:06.208Z"
   },
   {
    "duration": 1809,
    "start_time": "2023-03-22T03:06:08.033Z"
   },
   {
    "duration": 1893,
    "start_time": "2023-03-22T03:06:09.844Z"
   },
   {
    "duration": 13,
    "start_time": "2023-03-22T03:06:11.738Z"
   },
   {
    "duration": 155,
    "start_time": "2023-03-22T03:06:11.752Z"
   },
   {
    "duration": 1675,
    "start_time": "2023-03-22T07:06:33.134Z"
   },
   {
    "duration": 1865,
    "start_time": "2023-03-22T07:06:34.815Z"
   },
   {
    "duration": 17,
    "start_time": "2023-03-22T07:06:36.682Z"
   },
   {
    "duration": 55,
    "start_time": "2023-03-22T07:06:36.702Z"
   },
   {
    "duration": 10,
    "start_time": "2023-03-22T07:06:36.759Z"
   },
   {
    "duration": 71,
    "start_time": "2023-03-22T07:06:36.771Z"
   },
   {
    "duration": 649,
    "start_time": "2023-03-22T07:06:36.844Z"
   },
   {
    "duration": 25,
    "start_time": "2023-03-22T07:06:37.494Z"
   },
   {
    "duration": 43,
    "start_time": "2023-03-22T07:06:37.520Z"
   },
   {
    "duration": 9,
    "start_time": "2023-03-22T07:06:37.565Z"
   },
   {
    "duration": 67,
    "start_time": "2023-03-22T07:06:37.576Z"
   },
   {
    "duration": 663,
    "start_time": "2023-03-22T07:06:38.036Z"
   },
   {
    "duration": 20,
    "start_time": "2023-03-22T07:06:38.704Z"
   },
   {
    "duration": 39,
    "start_time": "2023-03-22T07:06:39.084Z"
   },
   {
    "duration": 9,
    "start_time": "2023-03-22T07:06:39.663Z"
   },
   {
    "duration": 623,
    "start_time": "2023-03-22T07:06:40.173Z"
   },
   {
    "duration": 50,
    "start_time": "2023-03-22T07:06:40.803Z"
   },
   {
    "duration": 289,
    "start_time": "2023-03-22T07:07:27.533Z"
   },
   {
    "duration": 321,
    "start_time": "2023-03-22T07:08:33.574Z"
   },
   {
    "duration": 301,
    "start_time": "2023-03-22T07:12:22.075Z"
   },
   {
    "duration": 12,
    "start_time": "2023-03-22T07:13:11.157Z"
   },
   {
    "duration": 21,
    "start_time": "2023-03-22T07:13:17.547Z"
   },
   {
    "duration": 26,
    "start_time": "2023-03-22T07:13:33.555Z"
   },
   {
    "duration": 30,
    "start_time": "2023-03-22T07:13:48.305Z"
   },
   {
    "duration": 119,
    "start_time": "2023-03-22T07:19:34.475Z"
   },
   {
    "duration": 4,
    "start_time": "2023-03-22T07:20:25.963Z"
   },
   {
    "duration": 16,
    "start_time": "2023-03-22T07:20:40.354Z"
   },
   {
    "duration": 181,
    "start_time": "2023-03-22T07:22:15.221Z"
   },
   {
    "duration": 998,
    "start_time": "2023-03-22T07:22:44.475Z"
   },
   {
    "duration": 164,
    "start_time": "2023-03-22T07:22:59.554Z"
   },
   {
    "duration": 167,
    "start_time": "2023-03-22T07:25:08.805Z"
   },
   {
    "duration": 144,
    "start_time": "2023-03-22T07:26:43.154Z"
   },
   {
    "duration": 167,
    "start_time": "2023-03-22T07:27:59.592Z"
   },
   {
    "duration": 108,
    "start_time": "2023-03-22T07:28:28.700Z"
   },
   {
    "duration": 41,
    "start_time": "2023-03-22T07:28:29.066Z"
   },
   {
    "duration": 15,
    "start_time": "2023-03-22T07:28:29.583Z"
   },
   {
    "duration": 14,
    "start_time": "2023-03-22T07:28:30.401Z"
   },
   {
    "duration": 10,
    "start_time": "2023-03-22T07:28:35.191Z"
   },
   {
    "duration": 5,
    "start_time": "2023-03-22T07:28:45.202Z"
   },
   {
    "duration": 6,
    "start_time": "2023-03-22T07:28:48.977Z"
   },
   {
    "duration": 5,
    "start_time": "2023-03-22T07:28:52.162Z"
   },
   {
    "duration": 18,
    "start_time": "2023-03-22T07:28:55.057Z"
   },
   {
    "duration": 11,
    "start_time": "2023-03-22T07:28:59.652Z"
   },
   {
    "duration": 21,
    "start_time": "2023-03-22T07:29:02.226Z"
   },
   {
    "duration": 5,
    "start_time": "2023-03-22T07:29:33.067Z"
   },
   {
    "duration": 9,
    "start_time": "2023-03-22T07:29:33.190Z"
   },
   {
    "duration": 11,
    "start_time": "2023-03-22T07:29:40.002Z"
   },
   {
    "duration": 6,
    "start_time": "2023-03-22T07:29:40.922Z"
   },
   {
    "duration": 4,
    "start_time": "2023-03-22T07:29:43.121Z"
   },
   {
    "duration": 8,
    "start_time": "2023-03-22T07:29:45.220Z"
   },
   {
    "duration": 1809,
    "start_time": "2023-03-22T07:30:02.562Z"
   },
   {
    "duration": 1824,
    "start_time": "2023-03-22T07:30:05.186Z"
   },
   {
    "duration": 1778,
    "start_time": "2023-03-22T07:30:07.922Z"
   },
   {
    "duration": 8,
    "start_time": "2023-03-22T07:49:44.417Z"
   },
   {
    "duration": 7,
    "start_time": "2023-03-22T07:50:11.692Z"
   },
   {
    "duration": 1762,
    "start_time": "2023-03-22T07:50:15.283Z"
   },
   {
    "duration": 1930,
    "start_time": "2023-03-22T07:50:20.593Z"
   },
   {
    "duration": 1728,
    "start_time": "2023-03-22T07:50:23.014Z"
   },
   {
    "duration": 2000,
    "start_time": "2023-03-22T10:44:25.188Z"
   },
   {
    "duration": 1574,
    "start_time": "2023-03-22T10:44:27.189Z"
   },
   {
    "duration": 15,
    "start_time": "2023-03-22T10:44:28.765Z"
   },
   {
    "duration": 37,
    "start_time": "2023-03-22T10:44:28.782Z"
   },
   {
    "duration": 8,
    "start_time": "2023-03-22T10:44:28.820Z"
   },
   {
    "duration": 60,
    "start_time": "2023-03-22T10:44:28.829Z"
   },
   {
    "duration": 490,
    "start_time": "2023-03-22T10:44:28.890Z"
   },
   {
    "duration": 273,
    "start_time": "2023-03-22T10:44:29.382Z"
   },
   {
    "duration": 15,
    "start_time": "2023-03-22T10:44:29.668Z"
   },
   {
    "duration": 14,
    "start_time": "2023-03-22T10:44:29.685Z"
   },
   {
    "duration": 29,
    "start_time": "2023-03-22T10:44:29.700Z"
   },
   {
    "duration": 8,
    "start_time": "2023-03-22T10:44:29.731Z"
   },
   {
    "duration": 60,
    "start_time": "2023-03-22T10:44:29.740Z"
   },
   {
    "duration": 545,
    "start_time": "2023-03-22T10:44:29.801Z"
   },
   {
    "duration": 269,
    "start_time": "2023-03-22T10:44:30.348Z"
   },
   {
    "duration": 17,
    "start_time": "2023-03-22T10:44:30.618Z"
   },
   {
    "duration": 33,
    "start_time": "2023-03-22T10:44:30.636Z"
   },
   {
    "duration": 47,
    "start_time": "2023-03-22T10:44:30.670Z"
   },
   {
    "duration": 10,
    "start_time": "2023-03-22T10:44:30.718Z"
   },
   {
    "duration": 500,
    "start_time": "2023-03-22T10:44:30.729Z"
   },
   {
    "duration": 42,
    "start_time": "2023-03-22T10:44:31.231Z"
   },
   {
    "duration": 246,
    "start_time": "2023-03-22T10:44:31.275Z"
   },
   {
    "duration": 15,
    "start_time": "2023-03-22T10:44:31.523Z"
   },
   {
    "duration": 74,
    "start_time": "2023-03-22T10:44:31.540Z"
   },
   {
    "duration": 134,
    "start_time": "2023-03-22T10:44:31.615Z"
   },
   {
    "duration": 123,
    "start_time": "2023-03-22T10:44:31.751Z"
   },
   {
    "duration": 140,
    "start_time": "2023-03-22T10:44:31.876Z"
   },
   {
    "duration": 52,
    "start_time": "2023-03-22T10:44:32.019Z"
   },
   {
    "duration": 99,
    "start_time": "2023-03-22T10:44:32.073Z"
   },
   {
    "duration": 107,
    "start_time": "2023-03-22T10:44:32.173Z"
   },
   {
    "duration": 4,
    "start_time": "2023-03-22T10:44:32.369Z"
   },
   {
    "duration": 100,
    "start_time": "2023-03-22T10:44:32.375Z"
   },
   {
    "duration": 8,
    "start_time": "2023-03-22T10:44:32.477Z"
   },
   {
    "duration": 15,
    "start_time": "2023-03-22T10:44:32.487Z"
   },
   {
    "duration": 26,
    "start_time": "2023-03-22T10:44:32.504Z"
   },
   {
    "duration": 18,
    "start_time": "2023-03-22T10:44:32.532Z"
   },
   {
    "duration": 10,
    "start_time": "2023-03-22T10:44:32.552Z"
   },
   {
    "duration": 30,
    "start_time": "2023-03-22T10:44:32.563Z"
   },
   {
    "duration": 2,
    "start_time": "2023-03-22T10:44:32.595Z"
   },
   {
    "duration": 4,
    "start_time": "2023-03-22T10:44:32.599Z"
   },
   {
    "duration": 9,
    "start_time": "2023-03-22T10:44:32.604Z"
   },
   {
    "duration": 4,
    "start_time": "2023-03-22T10:44:32.615Z"
   },
   {
    "duration": 5,
    "start_time": "2023-03-22T10:44:32.620Z"
   },
   {
    "duration": 13,
    "start_time": "2023-03-22T10:44:32.626Z"
   },
   {
    "duration": 6,
    "start_time": "2023-03-22T10:44:32.640Z"
   },
   {
    "duration": 25,
    "start_time": "2023-03-22T10:44:32.648Z"
   },
   {
    "duration": 2,
    "start_time": "2023-03-22T10:44:32.675Z"
   },
   {
    "duration": 6,
    "start_time": "2023-03-22T10:44:32.679Z"
   },
   {
    "duration": 1387,
    "start_time": "2023-03-22T10:44:32.686Z"
   },
   {
    "duration": 1381,
    "start_time": "2023-03-22T10:44:34.074Z"
   },
   {
    "duration": 1406,
    "start_time": "2023-03-22T10:44:35.457Z"
   },
   {
    "duration": 8,
    "start_time": "2023-03-22T10:44:36.868Z"
   },
   {
    "duration": 191,
    "start_time": "2023-03-22T10:44:36.877Z"
   }
  ],
  "kernelspec": {
   "display_name": "Python 3 (ipykernel)",
   "language": "python",
   "name": "python3"
  },
  "language_info": {
   "codemirror_mode": {
    "name": "ipython",
    "version": 3
   },
   "file_extension": ".py",
   "mimetype": "text/x-python",
   "name": "python",
   "nbconvert_exporter": "python",
   "pygments_lexer": "ipython3",
   "version": "3.9.5"
  },
  "toc": {
   "base_numbering": 1,
   "nav_menu": {},
   "number_sections": true,
   "sideBar": true,
   "skip_h1_title": true,
   "title_cell": "Table of Contents",
   "title_sidebar": "Contents",
   "toc_cell": false,
   "toc_position": {},
   "toc_section_display": true,
   "toc_window_display": true
  }
 },
 "nbformat": 4,
 "nbformat_minor": 2
}
